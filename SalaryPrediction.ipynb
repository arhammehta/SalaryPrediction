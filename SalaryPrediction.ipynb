{
  "nbformat": 4,
  "nbformat_minor": 0,
  "metadata": {
    "colab": {
      "name": "SalaryPrediction.ipynb",
      "provenance": [],
      "collapsed_sections": [],
      "authorship_tag": "ABX9TyOYFnExY3J/Q2l8iGFiZZUI",
      "include_colab_link": true
    },
    "kernelspec": {
      "name": "python3",
      "display_name": "Python 3"
    },
    "language_info": {
      "name": "python"
    }
  },
  "cells": [
    {
      "cell_type": "markdown",
      "metadata": {
        "id": "view-in-github",
        "colab_type": "text"
      },
      "source": [
        "<a href=\"https://colab.research.google.com/github/arhammehta/SalaryPrediction/blob/main/SalaryPrediction.ipynb\" target=\"_parent\"><img src=\"https://colab.research.google.com/assets/colab-badge.svg\" alt=\"Open In Colab\"/></a>"
      ]
    },
    {
      "cell_type": "markdown",
      "metadata": {
        "id": "YD14m_KSJ2p1"
      },
      "source": [
        "### **Salary Prediction using Regression Techniques**\n",
        "\n"
      ]
    },
    {
      "cell_type": "markdown",
      "metadata": {
        "id": "50qeQDPXJxUK"
      },
      "source": [
        "## **Importing Libraries**\n",
        "\n",
        "---"
      ]
    },
    {
      "cell_type": "code",
      "metadata": {
        "id": "sWbH1slUxuIt"
      },
      "source": [
        "#Import Libraries\n",
        "import numpy as np\n",
        "import matplotlib.pyplot as plt\n",
        "import pandas as pd"
      ],
      "execution_count": 1,
      "outputs": []
    },
    {
      "cell_type": "code",
      "metadata": {
        "id": "KxgtHHKfyOIJ"
      },
      "source": [
        "#Load the training features, training salaries and test_features\n",
        "train_data = pd.read_csv('train_features.csv')\n",
        "train_output = pd.read_csv('train_salaries.csv')\n",
        "df1 = train_data.set_index('jobId')\n",
        "df2 = train_output.set_index('jobId')\n",
        "#frames = [df1, df2]\n",
        "#result = pd.concat(frames)"
      ],
      "execution_count": 2,
      "outputs": []
    },
    {
      "cell_type": "code",
      "metadata": {
        "id": "G_v9AhqTmUpw"
      },
      "source": [
        "#Load test features in a dataframe with jobId as the index\n",
        "test_data = pd.read_csv('test_features.csv', index_col='jobId')"
      ],
      "execution_count": 3,
      "outputs": []
    },
    {
      "cell_type": "markdown",
      "metadata": {
        "id": "c7LBQ7NgIL_W"
      },
      "source": [
        "## **Exploratory Data Analysis**"
      ]
    },
    {
      "cell_type": "code",
      "metadata": {
        "colab": {
          "base_uri": "https://localhost:8080/"
        },
        "id": "sTPfnzHO1wEJ",
        "outputId": "0b5c8142-e8f6-487e-f07f-f9f726e28015"
      },
      "source": [
        "train_data.info()"
      ],
      "execution_count": 4,
      "outputs": [
        {
          "output_type": "stream",
          "name": "stdout",
          "text": [
            "<class 'pandas.core.frame.DataFrame'>\n",
            "RangeIndex: 1000000 entries, 0 to 999999\n",
            "Data columns (total 8 columns):\n",
            " #   Column               Non-Null Count    Dtype \n",
            "---  ------               --------------    ----- \n",
            " 0   jobId                1000000 non-null  object\n",
            " 1   companyId            1000000 non-null  object\n",
            " 2   jobType              1000000 non-null  object\n",
            " 3   degree               1000000 non-null  object\n",
            " 4   major                1000000 non-null  object\n",
            " 5   industry             1000000 non-null  object\n",
            " 6   yearsExperience      1000000 non-null  int64 \n",
            " 7   milesFromMetropolis  1000000 non-null  int64 \n",
            "dtypes: int64(2), object(6)\n",
            "memory usage: 61.0+ MB\n"
          ]
        }
      ]
    },
    {
      "cell_type": "code",
      "metadata": {
        "colab": {
          "base_uri": "https://localhost:8080/"
        },
        "id": "762bnbJB12Rw",
        "outputId": "1a067920-ccaa-4897-b8cc-73eceaf82e9a"
      },
      "source": [
        "train_output.info()"
      ],
      "execution_count": 5,
      "outputs": [
        {
          "output_type": "stream",
          "name": "stdout",
          "text": [
            "<class 'pandas.core.frame.DataFrame'>\n",
            "RangeIndex: 1000000 entries, 0 to 999999\n",
            "Data columns (total 2 columns):\n",
            " #   Column  Non-Null Count    Dtype \n",
            "---  ------  --------------    ----- \n",
            " 0   jobId   1000000 non-null  object\n",
            " 1   salary  1000000 non-null  int64 \n",
            "dtypes: int64(1), object(1)\n",
            "memory usage: 15.3+ MB\n"
          ]
        }
      ]
    },
    {
      "cell_type": "code",
      "metadata": {
        "colab": {
          "base_uri": "https://localhost:8080/"
        },
        "id": "FR3NXg9d1dK4",
        "outputId": "147bbc72-b2a3-4f42-dfec-f38efc0ccb0f"
      },
      "source": [
        "test_data.info()"
      ],
      "execution_count": 6,
      "outputs": [
        {
          "output_type": "stream",
          "name": "stdout",
          "text": [
            "<class 'pandas.core.frame.DataFrame'>\n",
            "Index: 1000000 entries, JOB1362685407687 to JOB1362686407686\n",
            "Data columns (total 7 columns):\n",
            " #   Column               Non-Null Count    Dtype \n",
            "---  ------               --------------    ----- \n",
            " 0   companyId            1000000 non-null  object\n",
            " 1   jobType              1000000 non-null  object\n",
            " 2   degree               1000000 non-null  object\n",
            " 3   major                1000000 non-null  object\n",
            " 4   industry             1000000 non-null  object\n",
            " 5   yearsExperience      1000000 non-null  int64 \n",
            " 6   milesFromMetropolis  1000000 non-null  int64 \n",
            "dtypes: int64(2), object(5)\n",
            "memory usage: 61.0+ MB\n"
          ]
        }
      ]
    },
    {
      "cell_type": "markdown",
      "metadata": {
        "id": "0w0EIp6nJKMu"
      },
      "source": [
        "# **Checking for Missing and Null values**\n"
      ]
    },
    {
      "cell_type": "code",
      "metadata": {
        "colab": {
          "base_uri": "https://localhost:8080/"
        },
        "id": "N6372DrU2Els",
        "outputId": "2c2848c9-0dfe-4753-a219-65f2e0a5506f"
      },
      "source": [
        "train_data.isnull().sum(axis = 0)"
      ],
      "execution_count": 7,
      "outputs": [
        {
          "output_type": "execute_result",
          "data": {
            "text/plain": [
              "jobId                  0\n",
              "companyId              0\n",
              "jobType                0\n",
              "degree                 0\n",
              "major                  0\n",
              "industry               0\n",
              "yearsExperience        0\n",
              "milesFromMetropolis    0\n",
              "dtype: int64"
            ]
          },
          "metadata": {},
          "execution_count": 7
        }
      ]
    },
    {
      "cell_type": "code",
      "metadata": {
        "colab": {
          "base_uri": "https://localhost:8080/"
        },
        "id": "7IQCJyUB2cpq",
        "outputId": "c8825555-86f7-4e8b-e733-8d016514ee10"
      },
      "source": [
        "train_output.isnull().sum(axis = 0)"
      ],
      "execution_count": 8,
      "outputs": [
        {
          "output_type": "execute_result",
          "data": {
            "text/plain": [
              "jobId     0\n",
              "salary    0\n",
              "dtype: int64"
            ]
          },
          "metadata": {},
          "execution_count": 8
        }
      ]
    },
    {
      "cell_type": "code",
      "metadata": {
        "colab": {
          "base_uri": "https://localhost:8080/"
        },
        "id": "EDU2SSs11s5Z",
        "outputId": "d3141356-7a89-48ba-80ac-b248defe4bea"
      },
      "source": [
        "test_data.isnull().sum(axis = 0)"
      ],
      "execution_count": 9,
      "outputs": [
        {
          "output_type": "execute_result",
          "data": {
            "text/plain": [
              "companyId              0\n",
              "jobType                0\n",
              "degree                 0\n",
              "major                  0\n",
              "industry               0\n",
              "yearsExperience        0\n",
              "milesFromMetropolis    0\n",
              "dtype: int64"
            ]
          },
          "metadata": {},
          "execution_count": 9
        }
      ]
    },
    {
      "cell_type": "markdown",
      "metadata": {
        "id": "RvaH5GL9LKFm"
      },
      "source": [
        "# **Finding Insights from Data**"
      ]
    },
    {
      "cell_type": "code",
      "metadata": {
        "colab": {
          "base_uri": "https://localhost:8080/",
          "height": 204
        },
        "id": "5AnQndqk1uH2",
        "outputId": "dca33769-a399-47ef-ab8c-2e7f4443858d"
      },
      "source": [
        "train_data.head(5)"
      ],
      "execution_count": 10,
      "outputs": [
        {
          "output_type": "execute_result",
          "data": {
            "text/html": [
              "<div>\n",
              "<style scoped>\n",
              "    .dataframe tbody tr th:only-of-type {\n",
              "        vertical-align: middle;\n",
              "    }\n",
              "\n",
              "    .dataframe tbody tr th {\n",
              "        vertical-align: top;\n",
              "    }\n",
              "\n",
              "    .dataframe thead th {\n",
              "        text-align: right;\n",
              "    }\n",
              "</style>\n",
              "<table border=\"1\" class=\"dataframe\">\n",
              "  <thead>\n",
              "    <tr style=\"text-align: right;\">\n",
              "      <th></th>\n",
              "      <th>jobId</th>\n",
              "      <th>companyId</th>\n",
              "      <th>jobType</th>\n",
              "      <th>degree</th>\n",
              "      <th>major</th>\n",
              "      <th>industry</th>\n",
              "      <th>yearsExperience</th>\n",
              "      <th>milesFromMetropolis</th>\n",
              "    </tr>\n",
              "  </thead>\n",
              "  <tbody>\n",
              "    <tr>\n",
              "      <th>0</th>\n",
              "      <td>JOB1362684407687</td>\n",
              "      <td>COMP37</td>\n",
              "      <td>CFO</td>\n",
              "      <td>MASTERS</td>\n",
              "      <td>MATH</td>\n",
              "      <td>HEALTH</td>\n",
              "      <td>10</td>\n",
              "      <td>83</td>\n",
              "    </tr>\n",
              "    <tr>\n",
              "      <th>1</th>\n",
              "      <td>JOB1362684407688</td>\n",
              "      <td>COMP19</td>\n",
              "      <td>CEO</td>\n",
              "      <td>HIGH_SCHOOL</td>\n",
              "      <td>NONE</td>\n",
              "      <td>WEB</td>\n",
              "      <td>3</td>\n",
              "      <td>73</td>\n",
              "    </tr>\n",
              "    <tr>\n",
              "      <th>2</th>\n",
              "      <td>JOB1362684407689</td>\n",
              "      <td>COMP52</td>\n",
              "      <td>VICE_PRESIDENT</td>\n",
              "      <td>DOCTORAL</td>\n",
              "      <td>PHYSICS</td>\n",
              "      <td>HEALTH</td>\n",
              "      <td>10</td>\n",
              "      <td>38</td>\n",
              "    </tr>\n",
              "    <tr>\n",
              "      <th>3</th>\n",
              "      <td>JOB1362684407690</td>\n",
              "      <td>COMP38</td>\n",
              "      <td>MANAGER</td>\n",
              "      <td>DOCTORAL</td>\n",
              "      <td>CHEMISTRY</td>\n",
              "      <td>AUTO</td>\n",
              "      <td>8</td>\n",
              "      <td>17</td>\n",
              "    </tr>\n",
              "    <tr>\n",
              "      <th>4</th>\n",
              "      <td>JOB1362684407691</td>\n",
              "      <td>COMP7</td>\n",
              "      <td>VICE_PRESIDENT</td>\n",
              "      <td>BACHELORS</td>\n",
              "      <td>PHYSICS</td>\n",
              "      <td>FINANCE</td>\n",
              "      <td>8</td>\n",
              "      <td>16</td>\n",
              "    </tr>\n",
              "  </tbody>\n",
              "</table>\n",
              "</div>"
            ],
            "text/plain": [
              "              jobId companyId  ... yearsExperience milesFromMetropolis\n",
              "0  JOB1362684407687    COMP37  ...              10                  83\n",
              "1  JOB1362684407688    COMP19  ...               3                  73\n",
              "2  JOB1362684407689    COMP52  ...              10                  38\n",
              "3  JOB1362684407690    COMP38  ...               8                  17\n",
              "4  JOB1362684407691     COMP7  ...               8                  16\n",
              "\n",
              "[5 rows x 8 columns]"
            ]
          },
          "metadata": {},
          "execution_count": 10
        }
      ]
    },
    {
      "cell_type": "code",
      "metadata": {
        "colab": {
          "base_uri": "https://localhost:8080/",
          "height": 235
        },
        "id": "mF-6Ct-h1uEf",
        "outputId": "693021aa-e262-43a1-da0d-cf7a0ae30aba"
      },
      "source": [
        "test_data.head(5)"
      ],
      "execution_count": 11,
      "outputs": [
        {
          "output_type": "execute_result",
          "data": {
            "text/html": [
              "<div>\n",
              "<style scoped>\n",
              "    .dataframe tbody tr th:only-of-type {\n",
              "        vertical-align: middle;\n",
              "    }\n",
              "\n",
              "    .dataframe tbody tr th {\n",
              "        vertical-align: top;\n",
              "    }\n",
              "\n",
              "    .dataframe thead th {\n",
              "        text-align: right;\n",
              "    }\n",
              "</style>\n",
              "<table border=\"1\" class=\"dataframe\">\n",
              "  <thead>\n",
              "    <tr style=\"text-align: right;\">\n",
              "      <th></th>\n",
              "      <th>companyId</th>\n",
              "      <th>jobType</th>\n",
              "      <th>degree</th>\n",
              "      <th>major</th>\n",
              "      <th>industry</th>\n",
              "      <th>yearsExperience</th>\n",
              "      <th>milesFromMetropolis</th>\n",
              "    </tr>\n",
              "    <tr>\n",
              "      <th>jobId</th>\n",
              "      <th></th>\n",
              "      <th></th>\n",
              "      <th></th>\n",
              "      <th></th>\n",
              "      <th></th>\n",
              "      <th></th>\n",
              "      <th></th>\n",
              "    </tr>\n",
              "  </thead>\n",
              "  <tbody>\n",
              "    <tr>\n",
              "      <th>JOB1362685407687</th>\n",
              "      <td>COMP33</td>\n",
              "      <td>MANAGER</td>\n",
              "      <td>HIGH_SCHOOL</td>\n",
              "      <td>NONE</td>\n",
              "      <td>HEALTH</td>\n",
              "      <td>22</td>\n",
              "      <td>73</td>\n",
              "    </tr>\n",
              "    <tr>\n",
              "      <th>JOB1362685407688</th>\n",
              "      <td>COMP13</td>\n",
              "      <td>JUNIOR</td>\n",
              "      <td>NONE</td>\n",
              "      <td>NONE</td>\n",
              "      <td>AUTO</td>\n",
              "      <td>20</td>\n",
              "      <td>47</td>\n",
              "    </tr>\n",
              "    <tr>\n",
              "      <th>JOB1362685407689</th>\n",
              "      <td>COMP10</td>\n",
              "      <td>CTO</td>\n",
              "      <td>MASTERS</td>\n",
              "      <td>BIOLOGY</td>\n",
              "      <td>HEALTH</td>\n",
              "      <td>17</td>\n",
              "      <td>9</td>\n",
              "    </tr>\n",
              "    <tr>\n",
              "      <th>JOB1362685407690</th>\n",
              "      <td>COMP21</td>\n",
              "      <td>MANAGER</td>\n",
              "      <td>HIGH_SCHOOL</td>\n",
              "      <td>NONE</td>\n",
              "      <td>OIL</td>\n",
              "      <td>14</td>\n",
              "      <td>96</td>\n",
              "    </tr>\n",
              "    <tr>\n",
              "      <th>JOB1362685407691</th>\n",
              "      <td>COMP36</td>\n",
              "      <td>JUNIOR</td>\n",
              "      <td>DOCTORAL</td>\n",
              "      <td>BIOLOGY</td>\n",
              "      <td>OIL</td>\n",
              "      <td>10</td>\n",
              "      <td>44</td>\n",
              "    </tr>\n",
              "  </tbody>\n",
              "</table>\n",
              "</div>"
            ],
            "text/plain": [
              "                 companyId  jobType  ... yearsExperience milesFromMetropolis\n",
              "jobId                                ...                                    \n",
              "JOB1362685407687    COMP33  MANAGER  ...              22                  73\n",
              "JOB1362685407688    COMP13   JUNIOR  ...              20                  47\n",
              "JOB1362685407689    COMP10      CTO  ...              17                   9\n",
              "JOB1362685407690    COMP21  MANAGER  ...              14                  96\n",
              "JOB1362685407691    COMP36   JUNIOR  ...              10                  44\n",
              "\n",
              "[5 rows x 7 columns]"
            ]
          },
          "metadata": {},
          "execution_count": 11
        }
      ]
    },
    {
      "cell_type": "code",
      "metadata": {
        "colab": {
          "base_uri": "https://localhost:8080/",
          "height": 204
        },
        "id": "m6Tx-tiG1uBR",
        "outputId": "8da83ec3-bc41-472a-f6a8-76a360cb1ab7"
      },
      "source": [
        "train_output.head(5)"
      ],
      "execution_count": 12,
      "outputs": [
        {
          "output_type": "execute_result",
          "data": {
            "text/html": [
              "<div>\n",
              "<style scoped>\n",
              "    .dataframe tbody tr th:only-of-type {\n",
              "        vertical-align: middle;\n",
              "    }\n",
              "\n",
              "    .dataframe tbody tr th {\n",
              "        vertical-align: top;\n",
              "    }\n",
              "\n",
              "    .dataframe thead th {\n",
              "        text-align: right;\n",
              "    }\n",
              "</style>\n",
              "<table border=\"1\" class=\"dataframe\">\n",
              "  <thead>\n",
              "    <tr style=\"text-align: right;\">\n",
              "      <th></th>\n",
              "      <th>jobId</th>\n",
              "      <th>salary</th>\n",
              "    </tr>\n",
              "  </thead>\n",
              "  <tbody>\n",
              "    <tr>\n",
              "      <th>0</th>\n",
              "      <td>JOB1362684407687</td>\n",
              "      <td>130</td>\n",
              "    </tr>\n",
              "    <tr>\n",
              "      <th>1</th>\n",
              "      <td>JOB1362684407688</td>\n",
              "      <td>101</td>\n",
              "    </tr>\n",
              "    <tr>\n",
              "      <th>2</th>\n",
              "      <td>JOB1362684407689</td>\n",
              "      <td>137</td>\n",
              "    </tr>\n",
              "    <tr>\n",
              "      <th>3</th>\n",
              "      <td>JOB1362684407690</td>\n",
              "      <td>142</td>\n",
              "    </tr>\n",
              "    <tr>\n",
              "      <th>4</th>\n",
              "      <td>JOB1362684407691</td>\n",
              "      <td>163</td>\n",
              "    </tr>\n",
              "  </tbody>\n",
              "</table>\n",
              "</div>"
            ],
            "text/plain": [
              "              jobId  salary\n",
              "0  JOB1362684407687     130\n",
              "1  JOB1362684407688     101\n",
              "2  JOB1362684407689     137\n",
              "3  JOB1362684407690     142\n",
              "4  JOB1362684407691     163"
            ]
          },
          "metadata": {},
          "execution_count": 12
        }
      ]
    },
    {
      "cell_type": "code",
      "metadata": {
        "colab": {
          "base_uri": "https://localhost:8080/"
        },
        "id": "GYRjucpz1t9v",
        "outputId": "77eb758b-58a7-4c2a-8ebc-27903a9cebf7"
      },
      "source": [
        "train_data.nunique(axis=0)"
      ],
      "execution_count": 13,
      "outputs": [
        {
          "output_type": "execute_result",
          "data": {
            "text/plain": [
              "jobId                  1000000\n",
              "companyId                   63\n",
              "jobType                      8\n",
              "degree                       5\n",
              "major                        9\n",
              "industry                     7\n",
              "yearsExperience             25\n",
              "milesFromMetropolis        100\n",
              "dtype: int64"
            ]
          },
          "metadata": {},
          "execution_count": 13
        }
      ]
    },
    {
      "cell_type": "code",
      "metadata": {
        "colab": {
          "base_uri": "https://localhost:8080/"
        },
        "id": "69UydJcV1t5i",
        "outputId": "33e04c08-6991-4424-c990-7deb45d1259d"
      },
      "source": [
        "test_data.nunique(axis=0)"
      ],
      "execution_count": 14,
      "outputs": [
        {
          "output_type": "execute_result",
          "data": {
            "text/plain": [
              "companyId               63\n",
              "jobType                  8\n",
              "degree                   5\n",
              "major                    9\n",
              "industry                 7\n",
              "yearsExperience         25\n",
              "milesFromMetropolis    100\n",
              "dtype: int64"
            ]
          },
          "metadata": {},
          "execution_count": 14
        }
      ]
    },
    {
      "cell_type": "code",
      "metadata": {
        "colab": {
          "base_uri": "https://localhost:8080/"
        },
        "id": "JOAfwtUM1t0E",
        "outputId": "f53d76fe-4081-4815-d48b-457c53fea6b0"
      },
      "source": [
        "train_output.nunique(axis=0)"
      ],
      "execution_count": 15,
      "outputs": [
        {
          "output_type": "execute_result",
          "data": {
            "text/plain": [
              "jobId     1000000\n",
              "salary        280\n",
              "dtype: int64"
            ]
          },
          "metadata": {},
          "execution_count": 15
        }
      ]
    },
    {
      "cell_type": "code",
      "metadata": {
        "colab": {
          "base_uri": "https://localhost:8080/"
        },
        "id": "WXPeDD5b1ttG",
        "outputId": "f1d03822-82b6-46f7-cede-5ad0dd08eaf5"
      },
      "source": [
        "train_data.companyId.value_counts().sort_values(ascending=True).head(20)"
      ],
      "execution_count": 16,
      "outputs": [
        {
          "output_type": "execute_result",
          "data": {
            "text/plain": [
              "COMP57    15635\n",
              "COMP8     15638\n",
              "COMP2     15641\n",
              "COMP0     15666\n",
              "COMP17    15715\n",
              "COMP52    15737\n",
              "COMP26    15750\n",
              "COMP29    15754\n",
              "COMP31    15756\n",
              "COMP7     15767\n",
              "COMP55    15767\n",
              "COMP27    15773\n",
              "COMP53    15776\n",
              "COMP49    15779\n",
              "COMP12    15783\n",
              "COMP16    15783\n",
              "COMP50    15791\n",
              "COMP28    15794\n",
              "COMP47    15796\n",
              "COMP5     15798\n",
              "Name: companyId, dtype: int64"
            ]
          },
          "metadata": {},
          "execution_count": 16
        }
      ]
    },
    {
      "cell_type": "code",
      "metadata": {
        "colab": {
          "base_uri": "https://localhost:8080/"
        },
        "id": "LnZBcb5q1tPi",
        "outputId": "329f0221-b986-4d2c-f6dd-5af4c46705ac"
      },
      "source": [
        "test_data.companyId.value_counts().sort_values(ascending=True).head(20)"
      ],
      "execution_count": 17,
      "outputs": [
        {
          "output_type": "execute_result",
          "data": {
            "text/plain": [
              "COMP17    15595\n",
              "COMP15    15611\n",
              "COMP14    15638\n",
              "COMP37    15644\n",
              "COMP28    15670\n",
              "COMP6     15684\n",
              "COMP25    15698\n",
              "COMP38    15707\n",
              "COMP24    15717\n",
              "COMP59    15720\n",
              "COMP51    15726\n",
              "COMP45    15752\n",
              "COMP52    15777\n",
              "COMP42    15786\n",
              "COMP43    15787\n",
              "COMP26    15788\n",
              "COMP55    15800\n",
              "COMP50    15802\n",
              "COMP29    15813\n",
              "COMP20    15815\n",
              "Name: companyId, dtype: int64"
            ]
          },
          "metadata": {},
          "execution_count": 17
        }
      ]
    },
    {
      "cell_type": "code",
      "metadata": {
        "colab": {
          "base_uri": "https://localhost:8080/"
        },
        "id": "U1COs5J_3jWG",
        "outputId": "32114a7a-4e02-440d-9c94-1679d7ac1d7b"
      },
      "source": [
        "train_data.companyId.value_counts().sort_values(ascending=True).head(20)"
      ],
      "execution_count": 18,
      "outputs": [
        {
          "output_type": "execute_result",
          "data": {
            "text/plain": [
              "COMP57    15635\n",
              "COMP8     15638\n",
              "COMP2     15641\n",
              "COMP0     15666\n",
              "COMP17    15715\n",
              "COMP52    15737\n",
              "COMP26    15750\n",
              "COMP29    15754\n",
              "COMP31    15756\n",
              "COMP7     15767\n",
              "COMP55    15767\n",
              "COMP27    15773\n",
              "COMP53    15776\n",
              "COMP49    15779\n",
              "COMP12    15783\n",
              "COMP16    15783\n",
              "COMP50    15791\n",
              "COMP28    15794\n",
              "COMP47    15796\n",
              "COMP5     15798\n",
              "Name: companyId, dtype: int64"
            ]
          },
          "metadata": {},
          "execution_count": 18
        }
      ]
    },
    {
      "cell_type": "code",
      "metadata": {
        "colab": {
          "base_uri": "https://localhost:8080/"
        },
        "id": "E-IXceai4EG3",
        "outputId": "1e1e2701-ff45-4f6b-d3a8-ce98a6a4c2fc"
      },
      "source": [
        "train_data.jobType.value_counts().sort_values()"
      ],
      "execution_count": 19,
      "outputs": [
        {
          "output_type": "execute_result",
          "data": {
            "text/plain": [
              "CFO               124369\n",
              "JUNIOR            124594\n",
              "CEO               124778\n",
              "JANITOR           124971\n",
              "CTO               125046\n",
              "MANAGER           125121\n",
              "VICE_PRESIDENT    125235\n",
              "SENIOR            125886\n",
              "Name: jobType, dtype: int64"
            ]
          },
          "metadata": {},
          "execution_count": 19
        }
      ]
    },
    {
      "cell_type": "code",
      "metadata": {
        "colab": {
          "base_uri": "https://localhost:8080/"
        },
        "id": "v6ul6-Dh4Ef6",
        "outputId": "f14f9963-65d4-456f-d3f0-486d6773a2ea"
      },
      "source": [
        "test_data.jobType.value_counts().sort_values()"
      ],
      "execution_count": 20,
      "outputs": [
        {
          "output_type": "execute_result",
          "data": {
            "text/plain": [
              "MANAGER           124391\n",
              "CTO               124665\n",
              "CEO               124941\n",
              "JUNIOR            125022\n",
              "CFO               125092\n",
              "SENIOR            125202\n",
              "JANITOR           125253\n",
              "VICE_PRESIDENT    125434\n",
              "Name: jobType, dtype: int64"
            ]
          },
          "metadata": {},
          "execution_count": 20
        }
      ]
    },
    {
      "cell_type": "code",
      "metadata": {
        "colab": {
          "base_uri": "https://localhost:8080/"
        },
        "id": "p4kz3YKa4E3G",
        "outputId": "30309a64-6eb9-4b4d-a644-b5bd4e2f0218"
      },
      "source": [
        "train_data.degree.value_counts().sort_values()"
      ],
      "execution_count": 21,
      "outputs": [
        {
          "output_type": "execute_result",
          "data": {
            "text/plain": [
              "MASTERS        175311\n",
              "DOCTORAL       175364\n",
              "BACHELORS      175495\n",
              "NONE           236854\n",
              "HIGH_SCHOOL    236976\n",
              "Name: degree, dtype: int64"
            ]
          },
          "metadata": {},
          "execution_count": 21
        }
      ]
    },
    {
      "cell_type": "code",
      "metadata": {
        "colab": {
          "base_uri": "https://localhost:8080/"
        },
        "id": "jM4zGKFR4FLO",
        "outputId": "8ffb57b7-8c94-44c4-8b34-4a1f8277d83e"
      },
      "source": [
        "test_data.degree.value_counts().sort_values()"
      ],
      "execution_count": 22,
      "outputs": [
        {
          "output_type": "execute_result",
          "data": {
            "text/plain": [
              "BACHELORS      173937\n",
              "DOCTORAL       175105\n",
              "MASTERS        175236\n",
              "NONE           237467\n",
              "HIGH_SCHOOL    238255\n",
              "Name: degree, dtype: int64"
            ]
          },
          "metadata": {},
          "execution_count": 22
        }
      ]
    },
    {
      "cell_type": "code",
      "metadata": {
        "colab": {
          "base_uri": "https://localhost:8080/"
        },
        "id": "w_GE33_J4b6_",
        "outputId": "c8889084-2786-43e7-e504-3289c5e4d40a"
      },
      "source": [
        "train_data.major.value_counts().sort_values()"
      ],
      "execution_count": 23,
      "outputs": [
        {
          "output_type": "execute_result",
          "data": {
            "text/plain": [
              "MATH            57801\n",
              "BIOLOGY         58379\n",
              "COMPSCI         58382\n",
              "PHYSICS         58410\n",
              "BUSINESS        58518\n",
              "ENGINEERING     58596\n",
              "LITERATURE      58684\n",
              "CHEMISTRY       58875\n",
              "NONE           532355\n",
              "Name: major, dtype: int64"
            ]
          },
          "metadata": {},
          "execution_count": 23
        }
      ]
    },
    {
      "cell_type": "code",
      "metadata": {
        "colab": {
          "base_uri": "https://localhost:8080/"
        },
        "id": "aALcvnqC4cwf",
        "outputId": "72217929-7f86-4186-ff28-a293204a4a8d"
      },
      "source": [
        "test_data.major.value_counts().sort_values()"
      ],
      "execution_count": 24,
      "outputs": [
        {
          "output_type": "execute_result",
          "data": {
            "text/plain": [
              "MATH            57817\n",
              "BUSINESS        57961\n",
              "LITERATURE      58062\n",
              "CHEMISTRY       58159\n",
              "PHYSICS         58248\n",
              "COMPSCI         58385\n",
              "ENGINEERING     58496\n",
              "BIOLOGY         58804\n",
              "NONE           534068\n",
              "Name: major, dtype: int64"
            ]
          },
          "metadata": {},
          "execution_count": 24
        }
      ]
    },
    {
      "cell_type": "code",
      "metadata": {
        "colab": {
          "base_uri": "https://localhost:8080/"
        },
        "id": "kMDtadQy4dRV",
        "outputId": "cca78e55-27eb-4bdf-ee55-2029944fa247"
      },
      "source": [
        "train_data.industry.value_counts().sort_values()"
      ],
      "execution_count": 25,
      "outputs": [
        {
          "output_type": "execute_result",
          "data": {
            "text/plain": [
              "SERVICE      142639\n",
              "HEALTH       142755\n",
              "OIL          142771\n",
              "EDUCATION    142819\n",
              "FINANCE      142867\n",
              "AUTO         142943\n",
              "WEB          143206\n",
              "Name: industry, dtype: int64"
            ]
          },
          "metadata": {},
          "execution_count": 25
        }
      ]
    },
    {
      "cell_type": "code",
      "metadata": {
        "colab": {
          "base_uri": "https://localhost:8080/"
        },
        "id": "BlEVT0104xZC",
        "outputId": "81d4a2f6-2cc3-4bc2-efdb-b213f18ec7ee"
      },
      "source": [
        "test_data.industry.value_counts().sort_values()"
      ],
      "execution_count": 26,
      "outputs": [
        {
          "output_type": "execute_result",
          "data": {
            "text/plain": [
              "AUTO         142482\n",
              "OIL          142535\n",
              "EDUCATION    142731\n",
              "HEALTH       142978\n",
              "WEB          143012\n",
              "FINANCE      143101\n",
              "SERVICE      143161\n",
              "Name: industry, dtype: int64"
            ]
          },
          "metadata": {},
          "execution_count": 26
        }
      ]
    },
    {
      "cell_type": "code",
      "metadata": {
        "colab": {
          "base_uri": "https://localhost:8080/"
        },
        "id": "dC1LorJl5MwA",
        "outputId": "e378531a-c5fe-4664-ce66-bf878f7ac53d"
      },
      "source": [
        "train_data.yearsExperience.value_counts().sort_values()"
      ],
      "execution_count": 27,
      "outputs": [
        {
          "output_type": "execute_result",
          "data": {
            "text/plain": [
              "12    39467\n",
              "21    39759\n",
              "13    39826\n",
              "14    39827\n",
              "0     39839\n",
              "24    39860\n",
              "19    39860\n",
              "16    39873\n",
              "11    39949\n",
              "20    39988\n",
              "5     40013\n",
              "23    40015\n",
              "10    40032\n",
              "4     40036\n",
              "2     40045\n",
              "7     40047\n",
              "17    40072\n",
              "18    40089\n",
              "6     40095\n",
              "8     40118\n",
              "22    40187\n",
              "3     40191\n",
              "9     40235\n",
              "1     40265\n",
              "15    40312\n",
              "Name: yearsExperience, dtype: int64"
            ]
          },
          "metadata": {},
          "execution_count": 27
        }
      ]
    },
    {
      "cell_type": "code",
      "metadata": {
        "colab": {
          "base_uri": "https://localhost:8080/"
        },
        "id": "VYIfyU2s5Ml0",
        "outputId": "7db3f138-d823-4c87-febe-a929de304515"
      },
      "source": [
        "test_data.yearsExperience.value_counts().sort_values()"
      ],
      "execution_count": 28,
      "outputs": [
        {
          "output_type": "execute_result",
          "data": {
            "text/plain": [
              "9     39720\n",
              "3     39725\n",
              "18    39737\n",
              "10    39746\n",
              "11    39802\n",
              "5     39832\n",
              "0     39853\n",
              "13    39892\n",
              "4     39945\n",
              "14    39951\n",
              "12    39973\n",
              "22    40018\n",
              "19    40028\n",
              "21    40034\n",
              "16    40045\n",
              "24    40051\n",
              "17    40060\n",
              "23    40084\n",
              "15    40094\n",
              "1     40152\n",
              "2     40174\n",
              "8     40180\n",
              "20    40190\n",
              "6     40311\n",
              "7     40403\n",
              "Name: yearsExperience, dtype: int64"
            ]
          },
          "metadata": {},
          "execution_count": 28
        }
      ]
    },
    {
      "cell_type": "code",
      "metadata": {
        "colab": {
          "base_uri": "https://localhost:8080/"
        },
        "id": "EZGAnJkl5AUk",
        "outputId": "91e9f349-84a8-46d7-d9fc-2f62d0f4a28f"
      },
      "source": [
        "train_data.milesFromMetropolis.value_counts().sort_values()"
      ],
      "execution_count": 29,
      "outputs": [
        {
          "output_type": "execute_result",
          "data": {
            "text/plain": [
              "20     9807\n",
              "87     9815\n",
              "18     9824\n",
              "6      9840\n",
              "26     9845\n",
              "      ...  \n",
              "41    10147\n",
              "97    10155\n",
              "63    10159\n",
              "62    10175\n",
              "99    10180\n",
              "Name: milesFromMetropolis, Length: 100, dtype: int64"
            ]
          },
          "metadata": {},
          "execution_count": 29
        }
      ]
    },
    {
      "cell_type": "code",
      "metadata": {
        "colab": {
          "base_uri": "https://localhost:8080/"
        },
        "id": "iirNc7fN5A_h",
        "outputId": "b70577d4-75a9-4715-9b93-453d39fa8d1a"
      },
      "source": [
        "test_data.milesFromMetropolis.value_counts().sort_values()"
      ],
      "execution_count": 30,
      "outputs": [
        {
          "output_type": "execute_result",
          "data": {
            "text/plain": [
              "18     9755\n",
              "83     9788\n",
              "65     9789\n",
              "38     9796\n",
              "59     9813\n",
              "      ...  \n",
              "2     10177\n",
              "61    10191\n",
              "95    10205\n",
              "36    10213\n",
              "80    10261\n",
              "Name: milesFromMetropolis, Length: 100, dtype: int64"
            ]
          },
          "metadata": {},
          "execution_count": 30
        }
      ]
    },
    {
      "cell_type": "code",
      "metadata": {
        "colab": {
          "base_uri": "https://localhost:8080/"
        },
        "id": "p7RoDzpn5VPg",
        "outputId": "67ece3c4-5ca0-40a2-e6e6-40745abe18b1"
      },
      "source": [
        "train_output.salary.value_counts().sort_values()"
      ],
      "execution_count": 31,
      "outputs": [
        {
          "output_type": "execute_result",
          "data": {
            "text/plain": [
              "298        1\n",
              "17         1\n",
              "290        1\n",
              "292        2\n",
              "294        2\n",
              "       ...  \n",
              "104    10297\n",
              "112    10361\n",
              "107    10371\n",
              "114    10407\n",
              "108    10467\n",
              "Name: salary, Length: 280, dtype: int64"
            ]
          },
          "metadata": {},
          "execution_count": 31
        }
      ]
    },
    {
      "cell_type": "markdown",
      "metadata": {
        "id": "hymLGW7JLXwE"
      },
      "source": [
        "# **Concatenated train features and train salaries**\n",
        "\n",
        "---\n",
        "\n",
        "Concatenation was done on jobId Axis for further exploration and transformation since it was the common column, and did not want to duplicate the efforts of tranforming the data seperately and twice by not doing so.\n",
        "\n"
      ]
    },
    {
      "cell_type": "code",
      "metadata": {
        "id": "A43SOAqk3-J6"
      },
      "source": [
        "result = pd.concat([df1, df2], axis=1, join=\"inner\")"
      ],
      "execution_count": 32,
      "outputs": []
    },
    {
      "cell_type": "code",
      "metadata": {
        "colab": {
          "base_uri": "https://localhost:8080/"
        },
        "id": "iRIICxm44AA0",
        "outputId": "793a66fd-09e2-43f6-cbed-132dd768c31e"
      },
      "source": [
        "result.info()"
      ],
      "execution_count": 33,
      "outputs": [
        {
          "output_type": "stream",
          "name": "stdout",
          "text": [
            "<class 'pandas.core.frame.DataFrame'>\n",
            "Index: 1000000 entries, JOB1362684407687 to JOB1362685407686\n",
            "Data columns (total 8 columns):\n",
            " #   Column               Non-Null Count    Dtype \n",
            "---  ------               --------------    ----- \n",
            " 0   companyId            1000000 non-null  object\n",
            " 1   jobType              1000000 non-null  object\n",
            " 2   degree               1000000 non-null  object\n",
            " 3   major                1000000 non-null  object\n",
            " 4   industry             1000000 non-null  object\n",
            " 5   yearsExperience      1000000 non-null  int64 \n",
            " 6   milesFromMetropolis  1000000 non-null  int64 \n",
            " 7   salary               1000000 non-null  int64 \n",
            "dtypes: int64(3), object(5)\n",
            "memory usage: 108.7+ MB\n"
          ]
        }
      ]
    },
    {
      "cell_type": "code",
      "metadata": {
        "colab": {
          "base_uri": "https://localhost:8080/",
          "height": 255
        },
        "id": "EdIk8qSI5f-P",
        "outputId": "c825951a-20f9-4cf1-f595-bb1167b5cd85"
      },
      "source": [
        "result.head(5)"
      ],
      "execution_count": 34,
      "outputs": [
        {
          "output_type": "execute_result",
          "data": {
            "text/html": [
              "<div>\n",
              "<style scoped>\n",
              "    .dataframe tbody tr th:only-of-type {\n",
              "        vertical-align: middle;\n",
              "    }\n",
              "\n",
              "    .dataframe tbody tr th {\n",
              "        vertical-align: top;\n",
              "    }\n",
              "\n",
              "    .dataframe thead th {\n",
              "        text-align: right;\n",
              "    }\n",
              "</style>\n",
              "<table border=\"1\" class=\"dataframe\">\n",
              "  <thead>\n",
              "    <tr style=\"text-align: right;\">\n",
              "      <th></th>\n",
              "      <th>companyId</th>\n",
              "      <th>jobType</th>\n",
              "      <th>degree</th>\n",
              "      <th>major</th>\n",
              "      <th>industry</th>\n",
              "      <th>yearsExperience</th>\n",
              "      <th>milesFromMetropolis</th>\n",
              "      <th>salary</th>\n",
              "    </tr>\n",
              "    <tr>\n",
              "      <th>jobId</th>\n",
              "      <th></th>\n",
              "      <th></th>\n",
              "      <th></th>\n",
              "      <th></th>\n",
              "      <th></th>\n",
              "      <th></th>\n",
              "      <th></th>\n",
              "      <th></th>\n",
              "    </tr>\n",
              "  </thead>\n",
              "  <tbody>\n",
              "    <tr>\n",
              "      <th>JOB1362684407687</th>\n",
              "      <td>COMP37</td>\n",
              "      <td>CFO</td>\n",
              "      <td>MASTERS</td>\n",
              "      <td>MATH</td>\n",
              "      <td>HEALTH</td>\n",
              "      <td>10</td>\n",
              "      <td>83</td>\n",
              "      <td>130</td>\n",
              "    </tr>\n",
              "    <tr>\n",
              "      <th>JOB1362684407688</th>\n",
              "      <td>COMP19</td>\n",
              "      <td>CEO</td>\n",
              "      <td>HIGH_SCHOOL</td>\n",
              "      <td>NONE</td>\n",
              "      <td>WEB</td>\n",
              "      <td>3</td>\n",
              "      <td>73</td>\n",
              "      <td>101</td>\n",
              "    </tr>\n",
              "    <tr>\n",
              "      <th>JOB1362684407689</th>\n",
              "      <td>COMP52</td>\n",
              "      <td>VICE_PRESIDENT</td>\n",
              "      <td>DOCTORAL</td>\n",
              "      <td>PHYSICS</td>\n",
              "      <td>HEALTH</td>\n",
              "      <td>10</td>\n",
              "      <td>38</td>\n",
              "      <td>137</td>\n",
              "    </tr>\n",
              "    <tr>\n",
              "      <th>JOB1362684407690</th>\n",
              "      <td>COMP38</td>\n",
              "      <td>MANAGER</td>\n",
              "      <td>DOCTORAL</td>\n",
              "      <td>CHEMISTRY</td>\n",
              "      <td>AUTO</td>\n",
              "      <td>8</td>\n",
              "      <td>17</td>\n",
              "      <td>142</td>\n",
              "    </tr>\n",
              "    <tr>\n",
              "      <th>JOB1362684407691</th>\n",
              "      <td>COMP7</td>\n",
              "      <td>VICE_PRESIDENT</td>\n",
              "      <td>BACHELORS</td>\n",
              "      <td>PHYSICS</td>\n",
              "      <td>FINANCE</td>\n",
              "      <td>8</td>\n",
              "      <td>16</td>\n",
              "      <td>163</td>\n",
              "    </tr>\n",
              "  </tbody>\n",
              "</table>\n",
              "</div>"
            ],
            "text/plain": [
              "                 companyId         jobType  ... milesFromMetropolis salary\n",
              "jobId                                       ...                           \n",
              "JOB1362684407687    COMP37             CFO  ...                  83    130\n",
              "JOB1362684407688    COMP19             CEO  ...                  73    101\n",
              "JOB1362684407689    COMP52  VICE_PRESIDENT  ...                  38    137\n",
              "JOB1362684407690    COMP38         MANAGER  ...                  17    142\n",
              "JOB1362684407691     COMP7  VICE_PRESIDENT  ...                  16    163\n",
              "\n",
              "[5 rows x 8 columns]"
            ]
          },
          "metadata": {},
          "execution_count": 34
        }
      ]
    },
    {
      "cell_type": "code",
      "metadata": {
        "id": "fGsaG9QR5tb5"
      },
      "source": [
        "#result['companyId'] = train_dataset['companyId'].str.lstrip('COMP')\n",
        "X = result.iloc[:,:]"
      ],
      "execution_count": 35,
      "outputs": []
    },
    {
      "cell_type": "code",
      "metadata": {
        "id": "kGXdkQzG6-Ns"
      },
      "source": [
        "T = test_data.iloc[:,:]"
      ],
      "execution_count": 36,
      "outputs": []
    },
    {
      "cell_type": "markdown",
      "metadata": {
        "id": "eAx6BIORLuCs"
      },
      "source": [
        "# **Label Encoding all the categorical variables**\n",
        "\n",
        "\n",
        "---\n",
        "Used LabelEncoder to label the categorical variables. One label econding will assign the values to the training data features. The same instance will then be used to fit the test features data (only fit, and not fit_transform since it cannot have different values for the same variable value such as company name) finding correlation of features and further analysis\n"
      ]
    },
    {
      "cell_type": "code",
      "metadata": {
        "id": "DbxWaW1S6OUn"
      },
      "source": [
        "from sklearn.preprocessing import LabelEncoder\n",
        "label_encoder = LabelEncoder()\n",
        "X.iloc[:,0] = label_encoder.fit_transform(X.iloc[:,0]).astype('float64')"
      ],
      "execution_count": 37,
      "outputs": []
    },
    {
      "cell_type": "code",
      "metadata": {
        "id": "k5ectw-ZkqtU"
      },
      "source": [
        "T.iloc[:,0] = label_encoder.transform(T.iloc[:,0]).astype('float64')"
      ],
      "execution_count": 38,
      "outputs": []
    },
    {
      "cell_type": "code",
      "metadata": {
        "colab": {
          "base_uri": "https://localhost:8080/",
          "height": 470
        },
        "id": "rSW6SouS6Rb3",
        "outputId": "479b33bd-7214-4f19-b285-4b7af9f1bb08"
      },
      "source": [
        "X"
      ],
      "execution_count": 39,
      "outputs": [
        {
          "output_type": "execute_result",
          "data": {
            "text/html": [
              "<div>\n",
              "<style scoped>\n",
              "    .dataframe tbody tr th:only-of-type {\n",
              "        vertical-align: middle;\n",
              "    }\n",
              "\n",
              "    .dataframe tbody tr th {\n",
              "        vertical-align: top;\n",
              "    }\n",
              "\n",
              "    .dataframe thead th {\n",
              "        text-align: right;\n",
              "    }\n",
              "</style>\n",
              "<table border=\"1\" class=\"dataframe\">\n",
              "  <thead>\n",
              "    <tr style=\"text-align: right;\">\n",
              "      <th></th>\n",
              "      <th>companyId</th>\n",
              "      <th>jobType</th>\n",
              "      <th>degree</th>\n",
              "      <th>major</th>\n",
              "      <th>industry</th>\n",
              "      <th>yearsExperience</th>\n",
              "      <th>milesFromMetropolis</th>\n",
              "      <th>salary</th>\n",
              "    </tr>\n",
              "    <tr>\n",
              "      <th>jobId</th>\n",
              "      <th></th>\n",
              "      <th></th>\n",
              "      <th></th>\n",
              "      <th></th>\n",
              "      <th></th>\n",
              "      <th></th>\n",
              "      <th></th>\n",
              "      <th></th>\n",
              "    </tr>\n",
              "  </thead>\n",
              "  <tbody>\n",
              "    <tr>\n",
              "      <th>JOB1362684407687</th>\n",
              "      <td>31.0</td>\n",
              "      <td>CFO</td>\n",
              "      <td>MASTERS</td>\n",
              "      <td>MATH</td>\n",
              "      <td>HEALTH</td>\n",
              "      <td>10</td>\n",
              "      <td>83</td>\n",
              "      <td>130</td>\n",
              "    </tr>\n",
              "    <tr>\n",
              "      <th>JOB1362684407688</th>\n",
              "      <td>11.0</td>\n",
              "      <td>CEO</td>\n",
              "      <td>HIGH_SCHOOL</td>\n",
              "      <td>NONE</td>\n",
              "      <td>WEB</td>\n",
              "      <td>3</td>\n",
              "      <td>73</td>\n",
              "      <td>101</td>\n",
              "    </tr>\n",
              "    <tr>\n",
              "      <th>JOB1362684407689</th>\n",
              "      <td>48.0</td>\n",
              "      <td>VICE_PRESIDENT</td>\n",
              "      <td>DOCTORAL</td>\n",
              "      <td>PHYSICS</td>\n",
              "      <td>HEALTH</td>\n",
              "      <td>10</td>\n",
              "      <td>38</td>\n",
              "      <td>137</td>\n",
              "    </tr>\n",
              "    <tr>\n",
              "      <th>JOB1362684407690</th>\n",
              "      <td>32.0</td>\n",
              "      <td>MANAGER</td>\n",
              "      <td>DOCTORAL</td>\n",
              "      <td>CHEMISTRY</td>\n",
              "      <td>AUTO</td>\n",
              "      <td>8</td>\n",
              "      <td>17</td>\n",
              "      <td>142</td>\n",
              "    </tr>\n",
              "    <tr>\n",
              "      <th>JOB1362684407691</th>\n",
              "      <td>60.0</td>\n",
              "      <td>VICE_PRESIDENT</td>\n",
              "      <td>BACHELORS</td>\n",
              "      <td>PHYSICS</td>\n",
              "      <td>FINANCE</td>\n",
              "      <td>8</td>\n",
              "      <td>16</td>\n",
              "      <td>163</td>\n",
              "    </tr>\n",
              "    <tr>\n",
              "      <th>...</th>\n",
              "      <td>...</td>\n",
              "      <td>...</td>\n",
              "      <td>...</td>\n",
              "      <td>...</td>\n",
              "      <td>...</td>\n",
              "      <td>...</td>\n",
              "      <td>...</td>\n",
              "      <td>...</td>\n",
              "    </tr>\n",
              "    <tr>\n",
              "      <th>JOB1362685407682</th>\n",
              "      <td>52.0</td>\n",
              "      <td>VICE_PRESIDENT</td>\n",
              "      <td>BACHELORS</td>\n",
              "      <td>CHEMISTRY</td>\n",
              "      <td>HEALTH</td>\n",
              "      <td>19</td>\n",
              "      <td>94</td>\n",
              "      <td>88</td>\n",
              "    </tr>\n",
              "    <tr>\n",
              "      <th>JOB1362685407683</th>\n",
              "      <td>17.0</td>\n",
              "      <td>CTO</td>\n",
              "      <td>HIGH_SCHOOL</td>\n",
              "      <td>NONE</td>\n",
              "      <td>FINANCE</td>\n",
              "      <td>12</td>\n",
              "      <td>35</td>\n",
              "      <td>160</td>\n",
              "    </tr>\n",
              "    <tr>\n",
              "      <th>JOB1362685407684</th>\n",
              "      <td>16.0</td>\n",
              "      <td>JUNIOR</td>\n",
              "      <td>HIGH_SCHOOL</td>\n",
              "      <td>NONE</td>\n",
              "      <td>EDUCATION</td>\n",
              "      <td>16</td>\n",
              "      <td>81</td>\n",
              "      <td>64</td>\n",
              "    </tr>\n",
              "    <tr>\n",
              "      <th>JOB1362685407685</th>\n",
              "      <td>23.0</td>\n",
              "      <td>CFO</td>\n",
              "      <td>MASTERS</td>\n",
              "      <td>NONE</td>\n",
              "      <td>HEALTH</td>\n",
              "      <td>6</td>\n",
              "      <td>5</td>\n",
              "      <td>149</td>\n",
              "    </tr>\n",
              "    <tr>\n",
              "      <th>JOB1362685407686</th>\n",
              "      <td>55.0</td>\n",
              "      <td>JUNIOR</td>\n",
              "      <td>BACHELORS</td>\n",
              "      <td>NONE</td>\n",
              "      <td>EDUCATION</td>\n",
              "      <td>20</td>\n",
              "      <td>11</td>\n",
              "      <td>88</td>\n",
              "    </tr>\n",
              "  </tbody>\n",
              "</table>\n",
              "<p>1000000 rows × 8 columns</p>\n",
              "</div>"
            ],
            "text/plain": [
              "                  companyId         jobType  ... milesFromMetropolis salary\n",
              "jobId                                        ...                           \n",
              "JOB1362684407687       31.0             CFO  ...                  83    130\n",
              "JOB1362684407688       11.0             CEO  ...                  73    101\n",
              "JOB1362684407689       48.0  VICE_PRESIDENT  ...                  38    137\n",
              "JOB1362684407690       32.0         MANAGER  ...                  17    142\n",
              "JOB1362684407691       60.0  VICE_PRESIDENT  ...                  16    163\n",
              "...                     ...             ...  ...                 ...    ...\n",
              "JOB1362685407682       52.0  VICE_PRESIDENT  ...                  94     88\n",
              "JOB1362685407683       17.0             CTO  ...                  35    160\n",
              "JOB1362685407684       16.0          JUNIOR  ...                  81     64\n",
              "JOB1362685407685       23.0             CFO  ...                   5    149\n",
              "JOB1362685407686       55.0          JUNIOR  ...                  11     88\n",
              "\n",
              "[1000000 rows x 8 columns]"
            ]
          },
          "metadata": {},
          "execution_count": 39
        }
      ]
    },
    {
      "cell_type": "code",
      "metadata": {
        "colab": {
          "base_uri": "https://localhost:8080/",
          "height": 450
        },
        "id": "REsR0bOtlhmn",
        "outputId": "d58131dd-8506-40a4-8427-6c327a4c8e8f"
      },
      "source": [
        "T"
      ],
      "execution_count": 40,
      "outputs": [
        {
          "output_type": "execute_result",
          "data": {
            "text/html": [
              "<div>\n",
              "<style scoped>\n",
              "    .dataframe tbody tr th:only-of-type {\n",
              "        vertical-align: middle;\n",
              "    }\n",
              "\n",
              "    .dataframe tbody tr th {\n",
              "        vertical-align: top;\n",
              "    }\n",
              "\n",
              "    .dataframe thead th {\n",
              "        text-align: right;\n",
              "    }\n",
              "</style>\n",
              "<table border=\"1\" class=\"dataframe\">\n",
              "  <thead>\n",
              "    <tr style=\"text-align: right;\">\n",
              "      <th></th>\n",
              "      <th>companyId</th>\n",
              "      <th>jobType</th>\n",
              "      <th>degree</th>\n",
              "      <th>major</th>\n",
              "      <th>industry</th>\n",
              "      <th>yearsExperience</th>\n",
              "      <th>milesFromMetropolis</th>\n",
              "    </tr>\n",
              "    <tr>\n",
              "      <th>jobId</th>\n",
              "      <th></th>\n",
              "      <th></th>\n",
              "      <th></th>\n",
              "      <th></th>\n",
              "      <th></th>\n",
              "      <th></th>\n",
              "      <th></th>\n",
              "    </tr>\n",
              "  </thead>\n",
              "  <tbody>\n",
              "    <tr>\n",
              "      <th>JOB1362685407687</th>\n",
              "      <td>27.0</td>\n",
              "      <td>MANAGER</td>\n",
              "      <td>HIGH_SCHOOL</td>\n",
              "      <td>NONE</td>\n",
              "      <td>HEALTH</td>\n",
              "      <td>22</td>\n",
              "      <td>73</td>\n",
              "    </tr>\n",
              "    <tr>\n",
              "      <th>JOB1362685407688</th>\n",
              "      <td>5.0</td>\n",
              "      <td>JUNIOR</td>\n",
              "      <td>NONE</td>\n",
              "      <td>NONE</td>\n",
              "      <td>AUTO</td>\n",
              "      <td>20</td>\n",
              "      <td>47</td>\n",
              "    </tr>\n",
              "    <tr>\n",
              "      <th>JOB1362685407689</th>\n",
              "      <td>2.0</td>\n",
              "      <td>CTO</td>\n",
              "      <td>MASTERS</td>\n",
              "      <td>BIOLOGY</td>\n",
              "      <td>HEALTH</td>\n",
              "      <td>17</td>\n",
              "      <td>9</td>\n",
              "    </tr>\n",
              "    <tr>\n",
              "      <th>JOB1362685407690</th>\n",
              "      <td>14.0</td>\n",
              "      <td>MANAGER</td>\n",
              "      <td>HIGH_SCHOOL</td>\n",
              "      <td>NONE</td>\n",
              "      <td>OIL</td>\n",
              "      <td>14</td>\n",
              "      <td>96</td>\n",
              "    </tr>\n",
              "    <tr>\n",
              "      <th>JOB1362685407691</th>\n",
              "      <td>30.0</td>\n",
              "      <td>JUNIOR</td>\n",
              "      <td>DOCTORAL</td>\n",
              "      <td>BIOLOGY</td>\n",
              "      <td>OIL</td>\n",
              "      <td>10</td>\n",
              "      <td>44</td>\n",
              "    </tr>\n",
              "    <tr>\n",
              "      <th>...</th>\n",
              "      <td>...</td>\n",
              "      <td>...</td>\n",
              "      <td>...</td>\n",
              "      <td>...</td>\n",
              "      <td>...</td>\n",
              "      <td>...</td>\n",
              "      <td>...</td>\n",
              "    </tr>\n",
              "    <tr>\n",
              "      <th>JOB1362686407682</th>\n",
              "      <td>50.0</td>\n",
              "      <td>VICE_PRESIDENT</td>\n",
              "      <td>BACHELORS</td>\n",
              "      <td>MATH</td>\n",
              "      <td>OIL</td>\n",
              "      <td>14</td>\n",
              "      <td>3</td>\n",
              "    </tr>\n",
              "    <tr>\n",
              "      <th>JOB1362686407683</th>\n",
              "      <td>45.0</td>\n",
              "      <td>MANAGER</td>\n",
              "      <td>NONE</td>\n",
              "      <td>NONE</td>\n",
              "      <td>HEALTH</td>\n",
              "      <td>20</td>\n",
              "      <td>67</td>\n",
              "    </tr>\n",
              "    <tr>\n",
              "      <th>JOB1362686407684</th>\n",
              "      <td>58.0</td>\n",
              "      <td>JANITOR</td>\n",
              "      <td>NONE</td>\n",
              "      <td>NONE</td>\n",
              "      <td>OIL</td>\n",
              "      <td>1</td>\n",
              "      <td>91</td>\n",
              "    </tr>\n",
              "    <tr>\n",
              "      <th>JOB1362686407685</th>\n",
              "      <td>11.0</td>\n",
              "      <td>CTO</td>\n",
              "      <td>DOCTORAL</td>\n",
              "      <td>MATH</td>\n",
              "      <td>OIL</td>\n",
              "      <td>14</td>\n",
              "      <td>63</td>\n",
              "    </tr>\n",
              "    <tr>\n",
              "      <th>JOB1362686407686</th>\n",
              "      <td>28.0</td>\n",
              "      <td>JUNIOR</td>\n",
              "      <td>NONE</td>\n",
              "      <td>NONE</td>\n",
              "      <td>OIL</td>\n",
              "      <td>16</td>\n",
              "      <td>31</td>\n",
              "    </tr>\n",
              "  </tbody>\n",
              "</table>\n",
              "<p>1000000 rows × 7 columns</p>\n",
              "</div>"
            ],
            "text/plain": [
              "                  companyId  ... milesFromMetropolis\n",
              "jobId                        ...                    \n",
              "JOB1362685407687       27.0  ...                  73\n",
              "JOB1362685407688        5.0  ...                  47\n",
              "JOB1362685407689        2.0  ...                   9\n",
              "JOB1362685407690       14.0  ...                  96\n",
              "JOB1362685407691       30.0  ...                  44\n",
              "...                     ...  ...                 ...\n",
              "JOB1362686407682       50.0  ...                   3\n",
              "JOB1362686407683       45.0  ...                  67\n",
              "JOB1362686407684       58.0  ...                  91\n",
              "JOB1362686407685       11.0  ...                  63\n",
              "JOB1362686407686       28.0  ...                  31\n",
              "\n",
              "[1000000 rows x 7 columns]"
            ]
          },
          "metadata": {},
          "execution_count": 40
        }
      ]
    },
    {
      "cell_type": "code",
      "metadata": {
        "id": "zV68tD5F6Utm"
      },
      "source": [
        "label_encoder = LabelEncoder()\n",
        "X.iloc[:,1] = label_encoder.fit_transform(X.iloc[:,1]).astype('float64')\n",
        "T.iloc[:,1] = label_encoder.transform(T.iloc[:,1]).astype('float64')"
      ],
      "execution_count": 41,
      "outputs": []
    },
    {
      "cell_type": "code",
      "metadata": {
        "colab": {
          "base_uri": "https://localhost:8080/",
          "height": 450
        },
        "id": "V1mOoqne62uj",
        "outputId": "49cac9ee-7489-4930-b8d1-afd8008d21b4"
      },
      "source": [
        "X"
      ],
      "execution_count": 42,
      "outputs": [
        {
          "output_type": "execute_result",
          "data": {
            "text/html": [
              "<div>\n",
              "<style scoped>\n",
              "    .dataframe tbody tr th:only-of-type {\n",
              "        vertical-align: middle;\n",
              "    }\n",
              "\n",
              "    .dataframe tbody tr th {\n",
              "        vertical-align: top;\n",
              "    }\n",
              "\n",
              "    .dataframe thead th {\n",
              "        text-align: right;\n",
              "    }\n",
              "</style>\n",
              "<table border=\"1\" class=\"dataframe\">\n",
              "  <thead>\n",
              "    <tr style=\"text-align: right;\">\n",
              "      <th></th>\n",
              "      <th>companyId</th>\n",
              "      <th>jobType</th>\n",
              "      <th>degree</th>\n",
              "      <th>major</th>\n",
              "      <th>industry</th>\n",
              "      <th>yearsExperience</th>\n",
              "      <th>milesFromMetropolis</th>\n",
              "      <th>salary</th>\n",
              "    </tr>\n",
              "    <tr>\n",
              "      <th>jobId</th>\n",
              "      <th></th>\n",
              "      <th></th>\n",
              "      <th></th>\n",
              "      <th></th>\n",
              "      <th></th>\n",
              "      <th></th>\n",
              "      <th></th>\n",
              "      <th></th>\n",
              "    </tr>\n",
              "  </thead>\n",
              "  <tbody>\n",
              "    <tr>\n",
              "      <th>JOB1362684407687</th>\n",
              "      <td>31.0</td>\n",
              "      <td>1.0</td>\n",
              "      <td>MASTERS</td>\n",
              "      <td>MATH</td>\n",
              "      <td>HEALTH</td>\n",
              "      <td>10</td>\n",
              "      <td>83</td>\n",
              "      <td>130</td>\n",
              "    </tr>\n",
              "    <tr>\n",
              "      <th>JOB1362684407688</th>\n",
              "      <td>11.0</td>\n",
              "      <td>0.0</td>\n",
              "      <td>HIGH_SCHOOL</td>\n",
              "      <td>NONE</td>\n",
              "      <td>WEB</td>\n",
              "      <td>3</td>\n",
              "      <td>73</td>\n",
              "      <td>101</td>\n",
              "    </tr>\n",
              "    <tr>\n",
              "      <th>JOB1362684407689</th>\n",
              "      <td>48.0</td>\n",
              "      <td>7.0</td>\n",
              "      <td>DOCTORAL</td>\n",
              "      <td>PHYSICS</td>\n",
              "      <td>HEALTH</td>\n",
              "      <td>10</td>\n",
              "      <td>38</td>\n",
              "      <td>137</td>\n",
              "    </tr>\n",
              "    <tr>\n",
              "      <th>JOB1362684407690</th>\n",
              "      <td>32.0</td>\n",
              "      <td>5.0</td>\n",
              "      <td>DOCTORAL</td>\n",
              "      <td>CHEMISTRY</td>\n",
              "      <td>AUTO</td>\n",
              "      <td>8</td>\n",
              "      <td>17</td>\n",
              "      <td>142</td>\n",
              "    </tr>\n",
              "    <tr>\n",
              "      <th>JOB1362684407691</th>\n",
              "      <td>60.0</td>\n",
              "      <td>7.0</td>\n",
              "      <td>BACHELORS</td>\n",
              "      <td>PHYSICS</td>\n",
              "      <td>FINANCE</td>\n",
              "      <td>8</td>\n",
              "      <td>16</td>\n",
              "      <td>163</td>\n",
              "    </tr>\n",
              "    <tr>\n",
              "      <th>...</th>\n",
              "      <td>...</td>\n",
              "      <td>...</td>\n",
              "      <td>...</td>\n",
              "      <td>...</td>\n",
              "      <td>...</td>\n",
              "      <td>...</td>\n",
              "      <td>...</td>\n",
              "      <td>...</td>\n",
              "    </tr>\n",
              "    <tr>\n",
              "      <th>JOB1362685407682</th>\n",
              "      <td>52.0</td>\n",
              "      <td>7.0</td>\n",
              "      <td>BACHELORS</td>\n",
              "      <td>CHEMISTRY</td>\n",
              "      <td>HEALTH</td>\n",
              "      <td>19</td>\n",
              "      <td>94</td>\n",
              "      <td>88</td>\n",
              "    </tr>\n",
              "    <tr>\n",
              "      <th>JOB1362685407683</th>\n",
              "      <td>17.0</td>\n",
              "      <td>2.0</td>\n",
              "      <td>HIGH_SCHOOL</td>\n",
              "      <td>NONE</td>\n",
              "      <td>FINANCE</td>\n",
              "      <td>12</td>\n",
              "      <td>35</td>\n",
              "      <td>160</td>\n",
              "    </tr>\n",
              "    <tr>\n",
              "      <th>JOB1362685407684</th>\n",
              "      <td>16.0</td>\n",
              "      <td>4.0</td>\n",
              "      <td>HIGH_SCHOOL</td>\n",
              "      <td>NONE</td>\n",
              "      <td>EDUCATION</td>\n",
              "      <td>16</td>\n",
              "      <td>81</td>\n",
              "      <td>64</td>\n",
              "    </tr>\n",
              "    <tr>\n",
              "      <th>JOB1362685407685</th>\n",
              "      <td>23.0</td>\n",
              "      <td>1.0</td>\n",
              "      <td>MASTERS</td>\n",
              "      <td>NONE</td>\n",
              "      <td>HEALTH</td>\n",
              "      <td>6</td>\n",
              "      <td>5</td>\n",
              "      <td>149</td>\n",
              "    </tr>\n",
              "    <tr>\n",
              "      <th>JOB1362685407686</th>\n",
              "      <td>55.0</td>\n",
              "      <td>4.0</td>\n",
              "      <td>BACHELORS</td>\n",
              "      <td>NONE</td>\n",
              "      <td>EDUCATION</td>\n",
              "      <td>20</td>\n",
              "      <td>11</td>\n",
              "      <td>88</td>\n",
              "    </tr>\n",
              "  </tbody>\n",
              "</table>\n",
              "<p>1000000 rows × 8 columns</p>\n",
              "</div>"
            ],
            "text/plain": [
              "                  companyId  jobType  ... milesFromMetropolis salary\n",
              "jobId                                 ...                           \n",
              "JOB1362684407687       31.0      1.0  ...                  83    130\n",
              "JOB1362684407688       11.0      0.0  ...                  73    101\n",
              "JOB1362684407689       48.0      7.0  ...                  38    137\n",
              "JOB1362684407690       32.0      5.0  ...                  17    142\n",
              "JOB1362684407691       60.0      7.0  ...                  16    163\n",
              "...                     ...      ...  ...                 ...    ...\n",
              "JOB1362685407682       52.0      7.0  ...                  94     88\n",
              "JOB1362685407683       17.0      2.0  ...                  35    160\n",
              "JOB1362685407684       16.0      4.0  ...                  81     64\n",
              "JOB1362685407685       23.0      1.0  ...                   5    149\n",
              "JOB1362685407686       55.0      4.0  ...                  11     88\n",
              "\n",
              "[1000000 rows x 8 columns]"
            ]
          },
          "metadata": {},
          "execution_count": 42
        }
      ]
    },
    {
      "cell_type": "code",
      "metadata": {
        "id": "gvvhzBd4lmxT",
        "colab": {
          "base_uri": "https://localhost:8080/",
          "height": 450
        },
        "outputId": "1736c512-659f-4744-9df1-4fa3634534d3"
      },
      "source": [
        "T"
      ],
      "execution_count": 43,
      "outputs": [
        {
          "output_type": "execute_result",
          "data": {
            "text/html": [
              "<div>\n",
              "<style scoped>\n",
              "    .dataframe tbody tr th:only-of-type {\n",
              "        vertical-align: middle;\n",
              "    }\n",
              "\n",
              "    .dataframe tbody tr th {\n",
              "        vertical-align: top;\n",
              "    }\n",
              "\n",
              "    .dataframe thead th {\n",
              "        text-align: right;\n",
              "    }\n",
              "</style>\n",
              "<table border=\"1\" class=\"dataframe\">\n",
              "  <thead>\n",
              "    <tr style=\"text-align: right;\">\n",
              "      <th></th>\n",
              "      <th>companyId</th>\n",
              "      <th>jobType</th>\n",
              "      <th>degree</th>\n",
              "      <th>major</th>\n",
              "      <th>industry</th>\n",
              "      <th>yearsExperience</th>\n",
              "      <th>milesFromMetropolis</th>\n",
              "    </tr>\n",
              "    <tr>\n",
              "      <th>jobId</th>\n",
              "      <th></th>\n",
              "      <th></th>\n",
              "      <th></th>\n",
              "      <th></th>\n",
              "      <th></th>\n",
              "      <th></th>\n",
              "      <th></th>\n",
              "    </tr>\n",
              "  </thead>\n",
              "  <tbody>\n",
              "    <tr>\n",
              "      <th>JOB1362685407687</th>\n",
              "      <td>27.0</td>\n",
              "      <td>5.0</td>\n",
              "      <td>HIGH_SCHOOL</td>\n",
              "      <td>NONE</td>\n",
              "      <td>HEALTH</td>\n",
              "      <td>22</td>\n",
              "      <td>73</td>\n",
              "    </tr>\n",
              "    <tr>\n",
              "      <th>JOB1362685407688</th>\n",
              "      <td>5.0</td>\n",
              "      <td>4.0</td>\n",
              "      <td>NONE</td>\n",
              "      <td>NONE</td>\n",
              "      <td>AUTO</td>\n",
              "      <td>20</td>\n",
              "      <td>47</td>\n",
              "    </tr>\n",
              "    <tr>\n",
              "      <th>JOB1362685407689</th>\n",
              "      <td>2.0</td>\n",
              "      <td>2.0</td>\n",
              "      <td>MASTERS</td>\n",
              "      <td>BIOLOGY</td>\n",
              "      <td>HEALTH</td>\n",
              "      <td>17</td>\n",
              "      <td>9</td>\n",
              "    </tr>\n",
              "    <tr>\n",
              "      <th>JOB1362685407690</th>\n",
              "      <td>14.0</td>\n",
              "      <td>5.0</td>\n",
              "      <td>HIGH_SCHOOL</td>\n",
              "      <td>NONE</td>\n",
              "      <td>OIL</td>\n",
              "      <td>14</td>\n",
              "      <td>96</td>\n",
              "    </tr>\n",
              "    <tr>\n",
              "      <th>JOB1362685407691</th>\n",
              "      <td>30.0</td>\n",
              "      <td>4.0</td>\n",
              "      <td>DOCTORAL</td>\n",
              "      <td>BIOLOGY</td>\n",
              "      <td>OIL</td>\n",
              "      <td>10</td>\n",
              "      <td>44</td>\n",
              "    </tr>\n",
              "    <tr>\n",
              "      <th>...</th>\n",
              "      <td>...</td>\n",
              "      <td>...</td>\n",
              "      <td>...</td>\n",
              "      <td>...</td>\n",
              "      <td>...</td>\n",
              "      <td>...</td>\n",
              "      <td>...</td>\n",
              "    </tr>\n",
              "    <tr>\n",
              "      <th>JOB1362686407682</th>\n",
              "      <td>50.0</td>\n",
              "      <td>7.0</td>\n",
              "      <td>BACHELORS</td>\n",
              "      <td>MATH</td>\n",
              "      <td>OIL</td>\n",
              "      <td>14</td>\n",
              "      <td>3</td>\n",
              "    </tr>\n",
              "    <tr>\n",
              "      <th>JOB1362686407683</th>\n",
              "      <td>45.0</td>\n",
              "      <td>5.0</td>\n",
              "      <td>NONE</td>\n",
              "      <td>NONE</td>\n",
              "      <td>HEALTH</td>\n",
              "      <td>20</td>\n",
              "      <td>67</td>\n",
              "    </tr>\n",
              "    <tr>\n",
              "      <th>JOB1362686407684</th>\n",
              "      <td>58.0</td>\n",
              "      <td>3.0</td>\n",
              "      <td>NONE</td>\n",
              "      <td>NONE</td>\n",
              "      <td>OIL</td>\n",
              "      <td>1</td>\n",
              "      <td>91</td>\n",
              "    </tr>\n",
              "    <tr>\n",
              "      <th>JOB1362686407685</th>\n",
              "      <td>11.0</td>\n",
              "      <td>2.0</td>\n",
              "      <td>DOCTORAL</td>\n",
              "      <td>MATH</td>\n",
              "      <td>OIL</td>\n",
              "      <td>14</td>\n",
              "      <td>63</td>\n",
              "    </tr>\n",
              "    <tr>\n",
              "      <th>JOB1362686407686</th>\n",
              "      <td>28.0</td>\n",
              "      <td>4.0</td>\n",
              "      <td>NONE</td>\n",
              "      <td>NONE</td>\n",
              "      <td>OIL</td>\n",
              "      <td>16</td>\n",
              "      <td>31</td>\n",
              "    </tr>\n",
              "  </tbody>\n",
              "</table>\n",
              "<p>1000000 rows × 7 columns</p>\n",
              "</div>"
            ],
            "text/plain": [
              "                  companyId  jobType  ... yearsExperience milesFromMetropolis\n",
              "jobId                                 ...                                    \n",
              "JOB1362685407687       27.0      5.0  ...              22                  73\n",
              "JOB1362685407688        5.0      4.0  ...              20                  47\n",
              "JOB1362685407689        2.0      2.0  ...              17                   9\n",
              "JOB1362685407690       14.0      5.0  ...              14                  96\n",
              "JOB1362685407691       30.0      4.0  ...              10                  44\n",
              "...                     ...      ...  ...             ...                 ...\n",
              "JOB1362686407682       50.0      7.0  ...              14                   3\n",
              "JOB1362686407683       45.0      5.0  ...              20                  67\n",
              "JOB1362686407684       58.0      3.0  ...               1                  91\n",
              "JOB1362686407685       11.0      2.0  ...              14                  63\n",
              "JOB1362686407686       28.0      4.0  ...              16                  31\n",
              "\n",
              "[1000000 rows x 7 columns]"
            ]
          },
          "metadata": {},
          "execution_count": 43
        }
      ]
    },
    {
      "cell_type": "code",
      "metadata": {
        "id": "7ivnH5Sb8SR6"
      },
      "source": [
        "label_encoder = LabelEncoder()\n",
        "X.iloc[:,2] = label_encoder.fit_transform(X.iloc[:,2]).astype('float64')\n",
        "T.iloc[:,2] = label_encoder.transform(T.iloc[:,2]).astype('float64')"
      ],
      "execution_count": 44,
      "outputs": []
    },
    {
      "cell_type": "code",
      "metadata": {
        "colab": {
          "base_uri": "https://localhost:8080/",
          "height": 450
        },
        "id": "OOFTudKp8Z7q",
        "outputId": "26142560-15a4-4e35-9565-dbe25b3186c4"
      },
      "source": [
        "X"
      ],
      "execution_count": 45,
      "outputs": [
        {
          "output_type": "execute_result",
          "data": {
            "text/html": [
              "<div>\n",
              "<style scoped>\n",
              "    .dataframe tbody tr th:only-of-type {\n",
              "        vertical-align: middle;\n",
              "    }\n",
              "\n",
              "    .dataframe tbody tr th {\n",
              "        vertical-align: top;\n",
              "    }\n",
              "\n",
              "    .dataframe thead th {\n",
              "        text-align: right;\n",
              "    }\n",
              "</style>\n",
              "<table border=\"1\" class=\"dataframe\">\n",
              "  <thead>\n",
              "    <tr style=\"text-align: right;\">\n",
              "      <th></th>\n",
              "      <th>companyId</th>\n",
              "      <th>jobType</th>\n",
              "      <th>degree</th>\n",
              "      <th>major</th>\n",
              "      <th>industry</th>\n",
              "      <th>yearsExperience</th>\n",
              "      <th>milesFromMetropolis</th>\n",
              "      <th>salary</th>\n",
              "    </tr>\n",
              "    <tr>\n",
              "      <th>jobId</th>\n",
              "      <th></th>\n",
              "      <th></th>\n",
              "      <th></th>\n",
              "      <th></th>\n",
              "      <th></th>\n",
              "      <th></th>\n",
              "      <th></th>\n",
              "      <th></th>\n",
              "    </tr>\n",
              "  </thead>\n",
              "  <tbody>\n",
              "    <tr>\n",
              "      <th>JOB1362684407687</th>\n",
              "      <td>31.0</td>\n",
              "      <td>1.0</td>\n",
              "      <td>3.0</td>\n",
              "      <td>MATH</td>\n",
              "      <td>HEALTH</td>\n",
              "      <td>10</td>\n",
              "      <td>83</td>\n",
              "      <td>130</td>\n",
              "    </tr>\n",
              "    <tr>\n",
              "      <th>JOB1362684407688</th>\n",
              "      <td>11.0</td>\n",
              "      <td>0.0</td>\n",
              "      <td>2.0</td>\n",
              "      <td>NONE</td>\n",
              "      <td>WEB</td>\n",
              "      <td>3</td>\n",
              "      <td>73</td>\n",
              "      <td>101</td>\n",
              "    </tr>\n",
              "    <tr>\n",
              "      <th>JOB1362684407689</th>\n",
              "      <td>48.0</td>\n",
              "      <td>7.0</td>\n",
              "      <td>1.0</td>\n",
              "      <td>PHYSICS</td>\n",
              "      <td>HEALTH</td>\n",
              "      <td>10</td>\n",
              "      <td>38</td>\n",
              "      <td>137</td>\n",
              "    </tr>\n",
              "    <tr>\n",
              "      <th>JOB1362684407690</th>\n",
              "      <td>32.0</td>\n",
              "      <td>5.0</td>\n",
              "      <td>1.0</td>\n",
              "      <td>CHEMISTRY</td>\n",
              "      <td>AUTO</td>\n",
              "      <td>8</td>\n",
              "      <td>17</td>\n",
              "      <td>142</td>\n",
              "    </tr>\n",
              "    <tr>\n",
              "      <th>JOB1362684407691</th>\n",
              "      <td>60.0</td>\n",
              "      <td>7.0</td>\n",
              "      <td>0.0</td>\n",
              "      <td>PHYSICS</td>\n",
              "      <td>FINANCE</td>\n",
              "      <td>8</td>\n",
              "      <td>16</td>\n",
              "      <td>163</td>\n",
              "    </tr>\n",
              "    <tr>\n",
              "      <th>...</th>\n",
              "      <td>...</td>\n",
              "      <td>...</td>\n",
              "      <td>...</td>\n",
              "      <td>...</td>\n",
              "      <td>...</td>\n",
              "      <td>...</td>\n",
              "      <td>...</td>\n",
              "      <td>...</td>\n",
              "    </tr>\n",
              "    <tr>\n",
              "      <th>JOB1362685407682</th>\n",
              "      <td>52.0</td>\n",
              "      <td>7.0</td>\n",
              "      <td>0.0</td>\n",
              "      <td>CHEMISTRY</td>\n",
              "      <td>HEALTH</td>\n",
              "      <td>19</td>\n",
              "      <td>94</td>\n",
              "      <td>88</td>\n",
              "    </tr>\n",
              "    <tr>\n",
              "      <th>JOB1362685407683</th>\n",
              "      <td>17.0</td>\n",
              "      <td>2.0</td>\n",
              "      <td>2.0</td>\n",
              "      <td>NONE</td>\n",
              "      <td>FINANCE</td>\n",
              "      <td>12</td>\n",
              "      <td>35</td>\n",
              "      <td>160</td>\n",
              "    </tr>\n",
              "    <tr>\n",
              "      <th>JOB1362685407684</th>\n",
              "      <td>16.0</td>\n",
              "      <td>4.0</td>\n",
              "      <td>2.0</td>\n",
              "      <td>NONE</td>\n",
              "      <td>EDUCATION</td>\n",
              "      <td>16</td>\n",
              "      <td>81</td>\n",
              "      <td>64</td>\n",
              "    </tr>\n",
              "    <tr>\n",
              "      <th>JOB1362685407685</th>\n",
              "      <td>23.0</td>\n",
              "      <td>1.0</td>\n",
              "      <td>3.0</td>\n",
              "      <td>NONE</td>\n",
              "      <td>HEALTH</td>\n",
              "      <td>6</td>\n",
              "      <td>5</td>\n",
              "      <td>149</td>\n",
              "    </tr>\n",
              "    <tr>\n",
              "      <th>JOB1362685407686</th>\n",
              "      <td>55.0</td>\n",
              "      <td>4.0</td>\n",
              "      <td>0.0</td>\n",
              "      <td>NONE</td>\n",
              "      <td>EDUCATION</td>\n",
              "      <td>20</td>\n",
              "      <td>11</td>\n",
              "      <td>88</td>\n",
              "    </tr>\n",
              "  </tbody>\n",
              "</table>\n",
              "<p>1000000 rows × 8 columns</p>\n",
              "</div>"
            ],
            "text/plain": [
              "                  companyId  jobType  ...  milesFromMetropolis salary\n",
              "jobId                                 ...                            \n",
              "JOB1362684407687       31.0      1.0  ...                   83    130\n",
              "JOB1362684407688       11.0      0.0  ...                   73    101\n",
              "JOB1362684407689       48.0      7.0  ...                   38    137\n",
              "JOB1362684407690       32.0      5.0  ...                   17    142\n",
              "JOB1362684407691       60.0      7.0  ...                   16    163\n",
              "...                     ...      ...  ...                  ...    ...\n",
              "JOB1362685407682       52.0      7.0  ...                   94     88\n",
              "JOB1362685407683       17.0      2.0  ...                   35    160\n",
              "JOB1362685407684       16.0      4.0  ...                   81     64\n",
              "JOB1362685407685       23.0      1.0  ...                    5    149\n",
              "JOB1362685407686       55.0      4.0  ...                   11     88\n",
              "\n",
              "[1000000 rows x 8 columns]"
            ]
          },
          "metadata": {},
          "execution_count": 45
        }
      ]
    },
    {
      "cell_type": "code",
      "metadata": {
        "colab": {
          "base_uri": "https://localhost:8080/",
          "height": 450
        },
        "id": "Df8nU36Wm6Q0",
        "outputId": "af8e63bf-feff-4b8d-f7c5-eb71bb3e047b"
      },
      "source": [
        "T"
      ],
      "execution_count": 46,
      "outputs": [
        {
          "output_type": "execute_result",
          "data": {
            "text/html": [
              "<div>\n",
              "<style scoped>\n",
              "    .dataframe tbody tr th:only-of-type {\n",
              "        vertical-align: middle;\n",
              "    }\n",
              "\n",
              "    .dataframe tbody tr th {\n",
              "        vertical-align: top;\n",
              "    }\n",
              "\n",
              "    .dataframe thead th {\n",
              "        text-align: right;\n",
              "    }\n",
              "</style>\n",
              "<table border=\"1\" class=\"dataframe\">\n",
              "  <thead>\n",
              "    <tr style=\"text-align: right;\">\n",
              "      <th></th>\n",
              "      <th>companyId</th>\n",
              "      <th>jobType</th>\n",
              "      <th>degree</th>\n",
              "      <th>major</th>\n",
              "      <th>industry</th>\n",
              "      <th>yearsExperience</th>\n",
              "      <th>milesFromMetropolis</th>\n",
              "    </tr>\n",
              "    <tr>\n",
              "      <th>jobId</th>\n",
              "      <th></th>\n",
              "      <th></th>\n",
              "      <th></th>\n",
              "      <th></th>\n",
              "      <th></th>\n",
              "      <th></th>\n",
              "      <th></th>\n",
              "    </tr>\n",
              "  </thead>\n",
              "  <tbody>\n",
              "    <tr>\n",
              "      <th>JOB1362685407687</th>\n",
              "      <td>27.0</td>\n",
              "      <td>5.0</td>\n",
              "      <td>2.0</td>\n",
              "      <td>NONE</td>\n",
              "      <td>HEALTH</td>\n",
              "      <td>22</td>\n",
              "      <td>73</td>\n",
              "    </tr>\n",
              "    <tr>\n",
              "      <th>JOB1362685407688</th>\n",
              "      <td>5.0</td>\n",
              "      <td>4.0</td>\n",
              "      <td>4.0</td>\n",
              "      <td>NONE</td>\n",
              "      <td>AUTO</td>\n",
              "      <td>20</td>\n",
              "      <td>47</td>\n",
              "    </tr>\n",
              "    <tr>\n",
              "      <th>JOB1362685407689</th>\n",
              "      <td>2.0</td>\n",
              "      <td>2.0</td>\n",
              "      <td>3.0</td>\n",
              "      <td>BIOLOGY</td>\n",
              "      <td>HEALTH</td>\n",
              "      <td>17</td>\n",
              "      <td>9</td>\n",
              "    </tr>\n",
              "    <tr>\n",
              "      <th>JOB1362685407690</th>\n",
              "      <td>14.0</td>\n",
              "      <td>5.0</td>\n",
              "      <td>2.0</td>\n",
              "      <td>NONE</td>\n",
              "      <td>OIL</td>\n",
              "      <td>14</td>\n",
              "      <td>96</td>\n",
              "    </tr>\n",
              "    <tr>\n",
              "      <th>JOB1362685407691</th>\n",
              "      <td>30.0</td>\n",
              "      <td>4.0</td>\n",
              "      <td>1.0</td>\n",
              "      <td>BIOLOGY</td>\n",
              "      <td>OIL</td>\n",
              "      <td>10</td>\n",
              "      <td>44</td>\n",
              "    </tr>\n",
              "    <tr>\n",
              "      <th>...</th>\n",
              "      <td>...</td>\n",
              "      <td>...</td>\n",
              "      <td>...</td>\n",
              "      <td>...</td>\n",
              "      <td>...</td>\n",
              "      <td>...</td>\n",
              "      <td>...</td>\n",
              "    </tr>\n",
              "    <tr>\n",
              "      <th>JOB1362686407682</th>\n",
              "      <td>50.0</td>\n",
              "      <td>7.0</td>\n",
              "      <td>0.0</td>\n",
              "      <td>MATH</td>\n",
              "      <td>OIL</td>\n",
              "      <td>14</td>\n",
              "      <td>3</td>\n",
              "    </tr>\n",
              "    <tr>\n",
              "      <th>JOB1362686407683</th>\n",
              "      <td>45.0</td>\n",
              "      <td>5.0</td>\n",
              "      <td>4.0</td>\n",
              "      <td>NONE</td>\n",
              "      <td>HEALTH</td>\n",
              "      <td>20</td>\n",
              "      <td>67</td>\n",
              "    </tr>\n",
              "    <tr>\n",
              "      <th>JOB1362686407684</th>\n",
              "      <td>58.0</td>\n",
              "      <td>3.0</td>\n",
              "      <td>4.0</td>\n",
              "      <td>NONE</td>\n",
              "      <td>OIL</td>\n",
              "      <td>1</td>\n",
              "      <td>91</td>\n",
              "    </tr>\n",
              "    <tr>\n",
              "      <th>JOB1362686407685</th>\n",
              "      <td>11.0</td>\n",
              "      <td>2.0</td>\n",
              "      <td>1.0</td>\n",
              "      <td>MATH</td>\n",
              "      <td>OIL</td>\n",
              "      <td>14</td>\n",
              "      <td>63</td>\n",
              "    </tr>\n",
              "    <tr>\n",
              "      <th>JOB1362686407686</th>\n",
              "      <td>28.0</td>\n",
              "      <td>4.0</td>\n",
              "      <td>4.0</td>\n",
              "      <td>NONE</td>\n",
              "      <td>OIL</td>\n",
              "      <td>16</td>\n",
              "      <td>31</td>\n",
              "    </tr>\n",
              "  </tbody>\n",
              "</table>\n",
              "<p>1000000 rows × 7 columns</p>\n",
              "</div>"
            ],
            "text/plain": [
              "                  companyId  jobType  ...  yearsExperience milesFromMetropolis\n",
              "jobId                                 ...                                     \n",
              "JOB1362685407687       27.0      5.0  ...               22                  73\n",
              "JOB1362685407688        5.0      4.0  ...               20                  47\n",
              "JOB1362685407689        2.0      2.0  ...               17                   9\n",
              "JOB1362685407690       14.0      5.0  ...               14                  96\n",
              "JOB1362685407691       30.0      4.0  ...               10                  44\n",
              "...                     ...      ...  ...              ...                 ...\n",
              "JOB1362686407682       50.0      7.0  ...               14                   3\n",
              "JOB1362686407683       45.0      5.0  ...               20                  67\n",
              "JOB1362686407684       58.0      3.0  ...                1                  91\n",
              "JOB1362686407685       11.0      2.0  ...               14                  63\n",
              "JOB1362686407686       28.0      4.0  ...               16                  31\n",
              "\n",
              "[1000000 rows x 7 columns]"
            ]
          },
          "metadata": {},
          "execution_count": 46
        }
      ]
    },
    {
      "cell_type": "code",
      "metadata": {
        "id": "u-5wRTb-8bVF"
      },
      "source": [
        "label_encoder = LabelEncoder()\n",
        "X.iloc[:,3] = label_encoder.fit_transform(X.iloc[:,3]).astype('float64')\n",
        "T.iloc[:,3] = label_encoder.transform(T.iloc[:,3]).astype('float64')"
      ],
      "execution_count": 47,
      "outputs": []
    },
    {
      "cell_type": "code",
      "metadata": {
        "id": "5hqY1pQn64OJ"
      },
      "source": [
        "label_encoder = LabelEncoder()\n",
        "X.iloc[:,4] = label_encoder.fit_transform(X.iloc[:,4]).astype('float64')\n",
        "T.iloc[:,4] = label_encoder.transform(T.iloc[:,4]).astype('float64')"
      ],
      "execution_count": 48,
      "outputs": []
    },
    {
      "cell_type": "code",
      "metadata": {
        "colab": {
          "base_uri": "https://localhost:8080/",
          "height": 450
        },
        "id": "TZJvdoRw68z6",
        "outputId": "8ff482a5-7c63-4a1c-97f4-2b6e3bd53050"
      },
      "source": [
        "X"
      ],
      "execution_count": 49,
      "outputs": [
        {
          "output_type": "execute_result",
          "data": {
            "text/html": [
              "<div>\n",
              "<style scoped>\n",
              "    .dataframe tbody tr th:only-of-type {\n",
              "        vertical-align: middle;\n",
              "    }\n",
              "\n",
              "    .dataframe tbody tr th {\n",
              "        vertical-align: top;\n",
              "    }\n",
              "\n",
              "    .dataframe thead th {\n",
              "        text-align: right;\n",
              "    }\n",
              "</style>\n",
              "<table border=\"1\" class=\"dataframe\">\n",
              "  <thead>\n",
              "    <tr style=\"text-align: right;\">\n",
              "      <th></th>\n",
              "      <th>companyId</th>\n",
              "      <th>jobType</th>\n",
              "      <th>degree</th>\n",
              "      <th>major</th>\n",
              "      <th>industry</th>\n",
              "      <th>yearsExperience</th>\n",
              "      <th>milesFromMetropolis</th>\n",
              "      <th>salary</th>\n",
              "    </tr>\n",
              "    <tr>\n",
              "      <th>jobId</th>\n",
              "      <th></th>\n",
              "      <th></th>\n",
              "      <th></th>\n",
              "      <th></th>\n",
              "      <th></th>\n",
              "      <th></th>\n",
              "      <th></th>\n",
              "      <th></th>\n",
              "    </tr>\n",
              "  </thead>\n",
              "  <tbody>\n",
              "    <tr>\n",
              "      <th>JOB1362684407687</th>\n",
              "      <td>31.0</td>\n",
              "      <td>1.0</td>\n",
              "      <td>3.0</td>\n",
              "      <td>6.0</td>\n",
              "      <td>3.0</td>\n",
              "      <td>10</td>\n",
              "      <td>83</td>\n",
              "      <td>130</td>\n",
              "    </tr>\n",
              "    <tr>\n",
              "      <th>JOB1362684407688</th>\n",
              "      <td>11.0</td>\n",
              "      <td>0.0</td>\n",
              "      <td>2.0</td>\n",
              "      <td>7.0</td>\n",
              "      <td>6.0</td>\n",
              "      <td>3</td>\n",
              "      <td>73</td>\n",
              "      <td>101</td>\n",
              "    </tr>\n",
              "    <tr>\n",
              "      <th>JOB1362684407689</th>\n",
              "      <td>48.0</td>\n",
              "      <td>7.0</td>\n",
              "      <td>1.0</td>\n",
              "      <td>8.0</td>\n",
              "      <td>3.0</td>\n",
              "      <td>10</td>\n",
              "      <td>38</td>\n",
              "      <td>137</td>\n",
              "    </tr>\n",
              "    <tr>\n",
              "      <th>JOB1362684407690</th>\n",
              "      <td>32.0</td>\n",
              "      <td>5.0</td>\n",
              "      <td>1.0</td>\n",
              "      <td>2.0</td>\n",
              "      <td>0.0</td>\n",
              "      <td>8</td>\n",
              "      <td>17</td>\n",
              "      <td>142</td>\n",
              "    </tr>\n",
              "    <tr>\n",
              "      <th>JOB1362684407691</th>\n",
              "      <td>60.0</td>\n",
              "      <td>7.0</td>\n",
              "      <td>0.0</td>\n",
              "      <td>8.0</td>\n",
              "      <td>2.0</td>\n",
              "      <td>8</td>\n",
              "      <td>16</td>\n",
              "      <td>163</td>\n",
              "    </tr>\n",
              "    <tr>\n",
              "      <th>...</th>\n",
              "      <td>...</td>\n",
              "      <td>...</td>\n",
              "      <td>...</td>\n",
              "      <td>...</td>\n",
              "      <td>...</td>\n",
              "      <td>...</td>\n",
              "      <td>...</td>\n",
              "      <td>...</td>\n",
              "    </tr>\n",
              "    <tr>\n",
              "      <th>JOB1362685407682</th>\n",
              "      <td>52.0</td>\n",
              "      <td>7.0</td>\n",
              "      <td>0.0</td>\n",
              "      <td>2.0</td>\n",
              "      <td>3.0</td>\n",
              "      <td>19</td>\n",
              "      <td>94</td>\n",
              "      <td>88</td>\n",
              "    </tr>\n",
              "    <tr>\n",
              "      <th>JOB1362685407683</th>\n",
              "      <td>17.0</td>\n",
              "      <td>2.0</td>\n",
              "      <td>2.0</td>\n",
              "      <td>7.0</td>\n",
              "      <td>2.0</td>\n",
              "      <td>12</td>\n",
              "      <td>35</td>\n",
              "      <td>160</td>\n",
              "    </tr>\n",
              "    <tr>\n",
              "      <th>JOB1362685407684</th>\n",
              "      <td>16.0</td>\n",
              "      <td>4.0</td>\n",
              "      <td>2.0</td>\n",
              "      <td>7.0</td>\n",
              "      <td>1.0</td>\n",
              "      <td>16</td>\n",
              "      <td>81</td>\n",
              "      <td>64</td>\n",
              "    </tr>\n",
              "    <tr>\n",
              "      <th>JOB1362685407685</th>\n",
              "      <td>23.0</td>\n",
              "      <td>1.0</td>\n",
              "      <td>3.0</td>\n",
              "      <td>7.0</td>\n",
              "      <td>3.0</td>\n",
              "      <td>6</td>\n",
              "      <td>5</td>\n",
              "      <td>149</td>\n",
              "    </tr>\n",
              "    <tr>\n",
              "      <th>JOB1362685407686</th>\n",
              "      <td>55.0</td>\n",
              "      <td>4.0</td>\n",
              "      <td>0.0</td>\n",
              "      <td>7.0</td>\n",
              "      <td>1.0</td>\n",
              "      <td>20</td>\n",
              "      <td>11</td>\n",
              "      <td>88</td>\n",
              "    </tr>\n",
              "  </tbody>\n",
              "</table>\n",
              "<p>1000000 rows × 8 columns</p>\n",
              "</div>"
            ],
            "text/plain": [
              "                  companyId  jobType  ...  milesFromMetropolis  salary\n",
              "jobId                                 ...                             \n",
              "JOB1362684407687       31.0      1.0  ...                   83     130\n",
              "JOB1362684407688       11.0      0.0  ...                   73     101\n",
              "JOB1362684407689       48.0      7.0  ...                   38     137\n",
              "JOB1362684407690       32.0      5.0  ...                   17     142\n",
              "JOB1362684407691       60.0      7.0  ...                   16     163\n",
              "...                     ...      ...  ...                  ...     ...\n",
              "JOB1362685407682       52.0      7.0  ...                   94      88\n",
              "JOB1362685407683       17.0      2.0  ...                   35     160\n",
              "JOB1362685407684       16.0      4.0  ...                   81      64\n",
              "JOB1362685407685       23.0      1.0  ...                    5     149\n",
              "JOB1362685407686       55.0      4.0  ...                   11      88\n",
              "\n",
              "[1000000 rows x 8 columns]"
            ]
          },
          "metadata": {},
          "execution_count": 49
        }
      ]
    },
    {
      "cell_type": "code",
      "metadata": {
        "colab": {
          "base_uri": "https://localhost:8080/",
          "height": 450
        },
        "id": "qAieXzfonG8b",
        "outputId": "210093d5-c25a-4eef-ba0a-09c6aeb65a01"
      },
      "source": [
        "T"
      ],
      "execution_count": 50,
      "outputs": [
        {
          "output_type": "execute_result",
          "data": {
            "text/html": [
              "<div>\n",
              "<style scoped>\n",
              "    .dataframe tbody tr th:only-of-type {\n",
              "        vertical-align: middle;\n",
              "    }\n",
              "\n",
              "    .dataframe tbody tr th {\n",
              "        vertical-align: top;\n",
              "    }\n",
              "\n",
              "    .dataframe thead th {\n",
              "        text-align: right;\n",
              "    }\n",
              "</style>\n",
              "<table border=\"1\" class=\"dataframe\">\n",
              "  <thead>\n",
              "    <tr style=\"text-align: right;\">\n",
              "      <th></th>\n",
              "      <th>companyId</th>\n",
              "      <th>jobType</th>\n",
              "      <th>degree</th>\n",
              "      <th>major</th>\n",
              "      <th>industry</th>\n",
              "      <th>yearsExperience</th>\n",
              "      <th>milesFromMetropolis</th>\n",
              "    </tr>\n",
              "    <tr>\n",
              "      <th>jobId</th>\n",
              "      <th></th>\n",
              "      <th></th>\n",
              "      <th></th>\n",
              "      <th></th>\n",
              "      <th></th>\n",
              "      <th></th>\n",
              "      <th></th>\n",
              "    </tr>\n",
              "  </thead>\n",
              "  <tbody>\n",
              "    <tr>\n",
              "      <th>JOB1362685407687</th>\n",
              "      <td>27.0</td>\n",
              "      <td>5.0</td>\n",
              "      <td>2.0</td>\n",
              "      <td>7.0</td>\n",
              "      <td>3.0</td>\n",
              "      <td>22</td>\n",
              "      <td>73</td>\n",
              "    </tr>\n",
              "    <tr>\n",
              "      <th>JOB1362685407688</th>\n",
              "      <td>5.0</td>\n",
              "      <td>4.0</td>\n",
              "      <td>4.0</td>\n",
              "      <td>7.0</td>\n",
              "      <td>0.0</td>\n",
              "      <td>20</td>\n",
              "      <td>47</td>\n",
              "    </tr>\n",
              "    <tr>\n",
              "      <th>JOB1362685407689</th>\n",
              "      <td>2.0</td>\n",
              "      <td>2.0</td>\n",
              "      <td>3.0</td>\n",
              "      <td>0.0</td>\n",
              "      <td>3.0</td>\n",
              "      <td>17</td>\n",
              "      <td>9</td>\n",
              "    </tr>\n",
              "    <tr>\n",
              "      <th>JOB1362685407690</th>\n",
              "      <td>14.0</td>\n",
              "      <td>5.0</td>\n",
              "      <td>2.0</td>\n",
              "      <td>7.0</td>\n",
              "      <td>4.0</td>\n",
              "      <td>14</td>\n",
              "      <td>96</td>\n",
              "    </tr>\n",
              "    <tr>\n",
              "      <th>JOB1362685407691</th>\n",
              "      <td>30.0</td>\n",
              "      <td>4.0</td>\n",
              "      <td>1.0</td>\n",
              "      <td>0.0</td>\n",
              "      <td>4.0</td>\n",
              "      <td>10</td>\n",
              "      <td>44</td>\n",
              "    </tr>\n",
              "    <tr>\n",
              "      <th>...</th>\n",
              "      <td>...</td>\n",
              "      <td>...</td>\n",
              "      <td>...</td>\n",
              "      <td>...</td>\n",
              "      <td>...</td>\n",
              "      <td>...</td>\n",
              "      <td>...</td>\n",
              "    </tr>\n",
              "    <tr>\n",
              "      <th>JOB1362686407682</th>\n",
              "      <td>50.0</td>\n",
              "      <td>7.0</td>\n",
              "      <td>0.0</td>\n",
              "      <td>6.0</td>\n",
              "      <td>4.0</td>\n",
              "      <td>14</td>\n",
              "      <td>3</td>\n",
              "    </tr>\n",
              "    <tr>\n",
              "      <th>JOB1362686407683</th>\n",
              "      <td>45.0</td>\n",
              "      <td>5.0</td>\n",
              "      <td>4.0</td>\n",
              "      <td>7.0</td>\n",
              "      <td>3.0</td>\n",
              "      <td>20</td>\n",
              "      <td>67</td>\n",
              "    </tr>\n",
              "    <tr>\n",
              "      <th>JOB1362686407684</th>\n",
              "      <td>58.0</td>\n",
              "      <td>3.0</td>\n",
              "      <td>4.0</td>\n",
              "      <td>7.0</td>\n",
              "      <td>4.0</td>\n",
              "      <td>1</td>\n",
              "      <td>91</td>\n",
              "    </tr>\n",
              "    <tr>\n",
              "      <th>JOB1362686407685</th>\n",
              "      <td>11.0</td>\n",
              "      <td>2.0</td>\n",
              "      <td>1.0</td>\n",
              "      <td>6.0</td>\n",
              "      <td>4.0</td>\n",
              "      <td>14</td>\n",
              "      <td>63</td>\n",
              "    </tr>\n",
              "    <tr>\n",
              "      <th>JOB1362686407686</th>\n",
              "      <td>28.0</td>\n",
              "      <td>4.0</td>\n",
              "      <td>4.0</td>\n",
              "      <td>7.0</td>\n",
              "      <td>4.0</td>\n",
              "      <td>16</td>\n",
              "      <td>31</td>\n",
              "    </tr>\n",
              "  </tbody>\n",
              "</table>\n",
              "<p>1000000 rows × 7 columns</p>\n",
              "</div>"
            ],
            "text/plain": [
              "                  companyId  jobType  ...  yearsExperience  milesFromMetropolis\n",
              "jobId                                 ...                                      \n",
              "JOB1362685407687       27.0      5.0  ...               22                   73\n",
              "JOB1362685407688        5.0      4.0  ...               20                   47\n",
              "JOB1362685407689        2.0      2.0  ...               17                    9\n",
              "JOB1362685407690       14.0      5.0  ...               14                   96\n",
              "JOB1362685407691       30.0      4.0  ...               10                   44\n",
              "...                     ...      ...  ...              ...                  ...\n",
              "JOB1362686407682       50.0      7.0  ...               14                    3\n",
              "JOB1362686407683       45.0      5.0  ...               20                   67\n",
              "JOB1362686407684       58.0      3.0  ...                1                   91\n",
              "JOB1362686407685       11.0      2.0  ...               14                   63\n",
              "JOB1362686407686       28.0      4.0  ...               16                   31\n",
              "\n",
              "[1000000 rows x 7 columns]"
            ]
          },
          "metadata": {},
          "execution_count": 50
        }
      ]
    },
    {
      "cell_type": "markdown",
      "metadata": {
        "id": "e9rKy5zKMLwL"
      },
      "source": [
        "# **Correlation Matrix**\n",
        "\n",
        "\n",
        "---\n",
        "\n",
        "\n",
        "To identify if any two features are sharing a co-linear value of more than 0.9, if so then one of the features can be used to prevent training the data on similar set of variables resulting in more bias in the output"
      ]
    },
    {
      "cell_type": "code",
      "metadata": {
        "colab": {
          "base_uri": "https://localhost:8080/",
          "height": 204
        },
        "id": "0qhAw39g9I5M",
        "outputId": "7c50fbf7-101b-4f8f-aa0c-7419cc619a47"
      },
      "source": [
        "corr = X.corr()\n",
        "corr.head()"
      ],
      "execution_count": 51,
      "outputs": [
        {
          "output_type": "execute_result",
          "data": {
            "text/html": [
              "<div>\n",
              "<style scoped>\n",
              "    .dataframe tbody tr th:only-of-type {\n",
              "        vertical-align: middle;\n",
              "    }\n",
              "\n",
              "    .dataframe tbody tr th {\n",
              "        vertical-align: top;\n",
              "    }\n",
              "\n",
              "    .dataframe thead th {\n",
              "        text-align: right;\n",
              "    }\n",
              "</style>\n",
              "<table border=\"1\" class=\"dataframe\">\n",
              "  <thead>\n",
              "    <tr style=\"text-align: right;\">\n",
              "      <th></th>\n",
              "      <th>companyId</th>\n",
              "      <th>jobType</th>\n",
              "      <th>degree</th>\n",
              "      <th>major</th>\n",
              "      <th>industry</th>\n",
              "      <th>yearsExperience</th>\n",
              "      <th>milesFromMetropolis</th>\n",
              "      <th>salary</th>\n",
              "    </tr>\n",
              "  </thead>\n",
              "  <tbody>\n",
              "    <tr>\n",
              "      <th>companyId</th>\n",
              "      <td>1.000000</td>\n",
              "      <td>-0.000284</td>\n",
              "      <td>-0.000057</td>\n",
              "      <td>0.000780</td>\n",
              "      <td>-0.001446</td>\n",
              "      <td>0.001185</td>\n",
              "      <td>-0.001020</td>\n",
              "      <td>-0.000993</td>\n",
              "    </tr>\n",
              "    <tr>\n",
              "      <th>jobType</th>\n",
              "      <td>-0.000284</td>\n",
              "      <td>1.000000</td>\n",
              "      <td>-0.020084</td>\n",
              "      <td>-0.020774</td>\n",
              "      <td>0.000069</td>\n",
              "      <td>-0.000186</td>\n",
              "      <td>-0.000365</td>\n",
              "      <td>-0.228673</td>\n",
              "    </tr>\n",
              "    <tr>\n",
              "      <th>degree</th>\n",
              "      <td>-0.000057</td>\n",
              "      <td>-0.020084</td>\n",
              "      <td>1.000000</td>\n",
              "      <td>0.370089</td>\n",
              "      <td>0.001551</td>\n",
              "      <td>-0.000144</td>\n",
              "      <td>-0.001359</td>\n",
              "      <td>-0.231789</td>\n",
              "    </tr>\n",
              "    <tr>\n",
              "      <th>major</th>\n",
              "      <td>0.000780</td>\n",
              "      <td>-0.020774</td>\n",
              "      <td>0.370089</td>\n",
              "      <td>1.000000</td>\n",
              "      <td>0.001075</td>\n",
              "      <td>0.000012</td>\n",
              "      <td>-0.001369</td>\n",
              "      <td>-0.262430</td>\n",
              "    </tr>\n",
              "    <tr>\n",
              "      <th>industry</th>\n",
              "      <td>-0.001446</td>\n",
              "      <td>0.000069</td>\n",
              "      <td>0.001551</td>\n",
              "      <td>0.001075</td>\n",
              "      <td>1.000000</td>\n",
              "      <td>0.000263</td>\n",
              "      <td>-0.000819</td>\n",
              "      <td>0.086502</td>\n",
              "    </tr>\n",
              "  </tbody>\n",
              "</table>\n",
              "</div>"
            ],
            "text/plain": [
              "           companyId   jobType  ...  milesFromMetropolis    salary\n",
              "companyId   1.000000 -0.000284  ...            -0.001020 -0.000993\n",
              "jobType    -0.000284  1.000000  ...            -0.000365 -0.228673\n",
              "degree     -0.000057 -0.020084  ...            -0.001359 -0.231789\n",
              "major       0.000780 -0.020774  ...            -0.001369 -0.262430\n",
              "industry   -0.001446  0.000069  ...            -0.000819  0.086502\n",
              "\n",
              "[5 rows x 8 columns]"
            ]
          },
          "metadata": {},
          "execution_count": 51
        }
      ]
    },
    {
      "cell_type": "code",
      "metadata": {
        "colab": {
          "base_uri": "https://localhost:8080/",
          "height": 450
        },
        "id": "VQNl6XWzHZ4l",
        "outputId": "6d850a5c-8721-4f3e-9cf8-3a4aaec4a044"
      },
      "source": [
        "X"
      ],
      "execution_count": 52,
      "outputs": [
        {
          "output_type": "execute_result",
          "data": {
            "text/html": [
              "<div>\n",
              "<style scoped>\n",
              "    .dataframe tbody tr th:only-of-type {\n",
              "        vertical-align: middle;\n",
              "    }\n",
              "\n",
              "    .dataframe tbody tr th {\n",
              "        vertical-align: top;\n",
              "    }\n",
              "\n",
              "    .dataframe thead th {\n",
              "        text-align: right;\n",
              "    }\n",
              "</style>\n",
              "<table border=\"1\" class=\"dataframe\">\n",
              "  <thead>\n",
              "    <tr style=\"text-align: right;\">\n",
              "      <th></th>\n",
              "      <th>companyId</th>\n",
              "      <th>jobType</th>\n",
              "      <th>degree</th>\n",
              "      <th>major</th>\n",
              "      <th>industry</th>\n",
              "      <th>yearsExperience</th>\n",
              "      <th>milesFromMetropolis</th>\n",
              "      <th>salary</th>\n",
              "    </tr>\n",
              "    <tr>\n",
              "      <th>jobId</th>\n",
              "      <th></th>\n",
              "      <th></th>\n",
              "      <th></th>\n",
              "      <th></th>\n",
              "      <th></th>\n",
              "      <th></th>\n",
              "      <th></th>\n",
              "      <th></th>\n",
              "    </tr>\n",
              "  </thead>\n",
              "  <tbody>\n",
              "    <tr>\n",
              "      <th>JOB1362684407687</th>\n",
              "      <td>31.0</td>\n",
              "      <td>1.0</td>\n",
              "      <td>3.0</td>\n",
              "      <td>6.0</td>\n",
              "      <td>3.0</td>\n",
              "      <td>10</td>\n",
              "      <td>83</td>\n",
              "      <td>130</td>\n",
              "    </tr>\n",
              "    <tr>\n",
              "      <th>JOB1362684407688</th>\n",
              "      <td>11.0</td>\n",
              "      <td>0.0</td>\n",
              "      <td>2.0</td>\n",
              "      <td>7.0</td>\n",
              "      <td>6.0</td>\n",
              "      <td>3</td>\n",
              "      <td>73</td>\n",
              "      <td>101</td>\n",
              "    </tr>\n",
              "    <tr>\n",
              "      <th>JOB1362684407689</th>\n",
              "      <td>48.0</td>\n",
              "      <td>7.0</td>\n",
              "      <td>1.0</td>\n",
              "      <td>8.0</td>\n",
              "      <td>3.0</td>\n",
              "      <td>10</td>\n",
              "      <td>38</td>\n",
              "      <td>137</td>\n",
              "    </tr>\n",
              "    <tr>\n",
              "      <th>JOB1362684407690</th>\n",
              "      <td>32.0</td>\n",
              "      <td>5.0</td>\n",
              "      <td>1.0</td>\n",
              "      <td>2.0</td>\n",
              "      <td>0.0</td>\n",
              "      <td>8</td>\n",
              "      <td>17</td>\n",
              "      <td>142</td>\n",
              "    </tr>\n",
              "    <tr>\n",
              "      <th>JOB1362684407691</th>\n",
              "      <td>60.0</td>\n",
              "      <td>7.0</td>\n",
              "      <td>0.0</td>\n",
              "      <td>8.0</td>\n",
              "      <td>2.0</td>\n",
              "      <td>8</td>\n",
              "      <td>16</td>\n",
              "      <td>163</td>\n",
              "    </tr>\n",
              "    <tr>\n",
              "      <th>...</th>\n",
              "      <td>...</td>\n",
              "      <td>...</td>\n",
              "      <td>...</td>\n",
              "      <td>...</td>\n",
              "      <td>...</td>\n",
              "      <td>...</td>\n",
              "      <td>...</td>\n",
              "      <td>...</td>\n",
              "    </tr>\n",
              "    <tr>\n",
              "      <th>JOB1362685407682</th>\n",
              "      <td>52.0</td>\n",
              "      <td>7.0</td>\n",
              "      <td>0.0</td>\n",
              "      <td>2.0</td>\n",
              "      <td>3.0</td>\n",
              "      <td>19</td>\n",
              "      <td>94</td>\n",
              "      <td>88</td>\n",
              "    </tr>\n",
              "    <tr>\n",
              "      <th>JOB1362685407683</th>\n",
              "      <td>17.0</td>\n",
              "      <td>2.0</td>\n",
              "      <td>2.0</td>\n",
              "      <td>7.0</td>\n",
              "      <td>2.0</td>\n",
              "      <td>12</td>\n",
              "      <td>35</td>\n",
              "      <td>160</td>\n",
              "    </tr>\n",
              "    <tr>\n",
              "      <th>JOB1362685407684</th>\n",
              "      <td>16.0</td>\n",
              "      <td>4.0</td>\n",
              "      <td>2.0</td>\n",
              "      <td>7.0</td>\n",
              "      <td>1.0</td>\n",
              "      <td>16</td>\n",
              "      <td>81</td>\n",
              "      <td>64</td>\n",
              "    </tr>\n",
              "    <tr>\n",
              "      <th>JOB1362685407685</th>\n",
              "      <td>23.0</td>\n",
              "      <td>1.0</td>\n",
              "      <td>3.0</td>\n",
              "      <td>7.0</td>\n",
              "      <td>3.0</td>\n",
              "      <td>6</td>\n",
              "      <td>5</td>\n",
              "      <td>149</td>\n",
              "    </tr>\n",
              "    <tr>\n",
              "      <th>JOB1362685407686</th>\n",
              "      <td>55.0</td>\n",
              "      <td>4.0</td>\n",
              "      <td>0.0</td>\n",
              "      <td>7.0</td>\n",
              "      <td>1.0</td>\n",
              "      <td>20</td>\n",
              "      <td>11</td>\n",
              "      <td>88</td>\n",
              "    </tr>\n",
              "  </tbody>\n",
              "</table>\n",
              "<p>1000000 rows × 8 columns</p>\n",
              "</div>"
            ],
            "text/plain": [
              "                  companyId  jobType  ...  milesFromMetropolis  salary\n",
              "jobId                                 ...                             \n",
              "JOB1362684407687       31.0      1.0  ...                   83     130\n",
              "JOB1362684407688       11.0      0.0  ...                   73     101\n",
              "JOB1362684407689       48.0      7.0  ...                   38     137\n",
              "JOB1362684407690       32.0      5.0  ...                   17     142\n",
              "JOB1362684407691       60.0      7.0  ...                   16     163\n",
              "...                     ...      ...  ...                  ...     ...\n",
              "JOB1362685407682       52.0      7.0  ...                   94      88\n",
              "JOB1362685407683       17.0      2.0  ...                   35     160\n",
              "JOB1362685407684       16.0      4.0  ...                   81      64\n",
              "JOB1362685407685       23.0      1.0  ...                    5     149\n",
              "JOB1362685407686       55.0      4.0  ...                   11      88\n",
              "\n",
              "[1000000 rows x 8 columns]"
            ]
          },
          "metadata": {},
          "execution_count": 52
        }
      ]
    },
    {
      "cell_type": "markdown",
      "metadata": {
        "id": "Tal8ojQyMx1X"
      },
      "source": [
        "# **Dropping jobId columns**\n",
        "---\n",
        "\n",
        "\n",
        "Reduces the number of features used to build the model on the datasets reducing the model training time and saving consumption cost of the resources"
      ]
    },
    {
      "cell_type": "code",
      "metadata": {
        "id": "7gu-cUgnQiRA"
      },
      "source": [
        "X.reset_index(drop=True, inplace=True)\n",
        "T.reset_index(drop=True, inplace=True)"
      ],
      "execution_count": 53,
      "outputs": []
    },
    {
      "cell_type": "code",
      "metadata": {
        "colab": {
          "base_uri": "https://localhost:8080/",
          "height": 419
        },
        "id": "RJmTPS77QmuE",
        "outputId": "fb08837c-8b72-4118-ee94-a46fe46ce940"
      },
      "source": [
        "X"
      ],
      "execution_count": 54,
      "outputs": [
        {
          "output_type": "execute_result",
          "data": {
            "text/html": [
              "<div>\n",
              "<style scoped>\n",
              "    .dataframe tbody tr th:only-of-type {\n",
              "        vertical-align: middle;\n",
              "    }\n",
              "\n",
              "    .dataframe tbody tr th {\n",
              "        vertical-align: top;\n",
              "    }\n",
              "\n",
              "    .dataframe thead th {\n",
              "        text-align: right;\n",
              "    }\n",
              "</style>\n",
              "<table border=\"1\" class=\"dataframe\">\n",
              "  <thead>\n",
              "    <tr style=\"text-align: right;\">\n",
              "      <th></th>\n",
              "      <th>companyId</th>\n",
              "      <th>jobType</th>\n",
              "      <th>degree</th>\n",
              "      <th>major</th>\n",
              "      <th>industry</th>\n",
              "      <th>yearsExperience</th>\n",
              "      <th>milesFromMetropolis</th>\n",
              "      <th>salary</th>\n",
              "    </tr>\n",
              "  </thead>\n",
              "  <tbody>\n",
              "    <tr>\n",
              "      <th>0</th>\n",
              "      <td>31.0</td>\n",
              "      <td>1.0</td>\n",
              "      <td>3.0</td>\n",
              "      <td>6.0</td>\n",
              "      <td>3.0</td>\n",
              "      <td>10</td>\n",
              "      <td>83</td>\n",
              "      <td>130</td>\n",
              "    </tr>\n",
              "    <tr>\n",
              "      <th>1</th>\n",
              "      <td>11.0</td>\n",
              "      <td>0.0</td>\n",
              "      <td>2.0</td>\n",
              "      <td>7.0</td>\n",
              "      <td>6.0</td>\n",
              "      <td>3</td>\n",
              "      <td>73</td>\n",
              "      <td>101</td>\n",
              "    </tr>\n",
              "    <tr>\n",
              "      <th>2</th>\n",
              "      <td>48.0</td>\n",
              "      <td>7.0</td>\n",
              "      <td>1.0</td>\n",
              "      <td>8.0</td>\n",
              "      <td>3.0</td>\n",
              "      <td>10</td>\n",
              "      <td>38</td>\n",
              "      <td>137</td>\n",
              "    </tr>\n",
              "    <tr>\n",
              "      <th>3</th>\n",
              "      <td>32.0</td>\n",
              "      <td>5.0</td>\n",
              "      <td>1.0</td>\n",
              "      <td>2.0</td>\n",
              "      <td>0.0</td>\n",
              "      <td>8</td>\n",
              "      <td>17</td>\n",
              "      <td>142</td>\n",
              "    </tr>\n",
              "    <tr>\n",
              "      <th>4</th>\n",
              "      <td>60.0</td>\n",
              "      <td>7.0</td>\n",
              "      <td>0.0</td>\n",
              "      <td>8.0</td>\n",
              "      <td>2.0</td>\n",
              "      <td>8</td>\n",
              "      <td>16</td>\n",
              "      <td>163</td>\n",
              "    </tr>\n",
              "    <tr>\n",
              "      <th>...</th>\n",
              "      <td>...</td>\n",
              "      <td>...</td>\n",
              "      <td>...</td>\n",
              "      <td>...</td>\n",
              "      <td>...</td>\n",
              "      <td>...</td>\n",
              "      <td>...</td>\n",
              "      <td>...</td>\n",
              "    </tr>\n",
              "    <tr>\n",
              "      <th>999995</th>\n",
              "      <td>52.0</td>\n",
              "      <td>7.0</td>\n",
              "      <td>0.0</td>\n",
              "      <td>2.0</td>\n",
              "      <td>3.0</td>\n",
              "      <td>19</td>\n",
              "      <td>94</td>\n",
              "      <td>88</td>\n",
              "    </tr>\n",
              "    <tr>\n",
              "      <th>999996</th>\n",
              "      <td>17.0</td>\n",
              "      <td>2.0</td>\n",
              "      <td>2.0</td>\n",
              "      <td>7.0</td>\n",
              "      <td>2.0</td>\n",
              "      <td>12</td>\n",
              "      <td>35</td>\n",
              "      <td>160</td>\n",
              "    </tr>\n",
              "    <tr>\n",
              "      <th>999997</th>\n",
              "      <td>16.0</td>\n",
              "      <td>4.0</td>\n",
              "      <td>2.0</td>\n",
              "      <td>7.0</td>\n",
              "      <td>1.0</td>\n",
              "      <td>16</td>\n",
              "      <td>81</td>\n",
              "      <td>64</td>\n",
              "    </tr>\n",
              "    <tr>\n",
              "      <th>999998</th>\n",
              "      <td>23.0</td>\n",
              "      <td>1.0</td>\n",
              "      <td>3.0</td>\n",
              "      <td>7.0</td>\n",
              "      <td>3.0</td>\n",
              "      <td>6</td>\n",
              "      <td>5</td>\n",
              "      <td>149</td>\n",
              "    </tr>\n",
              "    <tr>\n",
              "      <th>999999</th>\n",
              "      <td>55.0</td>\n",
              "      <td>4.0</td>\n",
              "      <td>0.0</td>\n",
              "      <td>7.0</td>\n",
              "      <td>1.0</td>\n",
              "      <td>20</td>\n",
              "      <td>11</td>\n",
              "      <td>88</td>\n",
              "    </tr>\n",
              "  </tbody>\n",
              "</table>\n",
              "<p>1000000 rows × 8 columns</p>\n",
              "</div>"
            ],
            "text/plain": [
              "        companyId  jobType  ...  milesFromMetropolis  salary\n",
              "0            31.0      1.0  ...                   83     130\n",
              "1            11.0      0.0  ...                   73     101\n",
              "2            48.0      7.0  ...                   38     137\n",
              "3            32.0      5.0  ...                   17     142\n",
              "4            60.0      7.0  ...                   16     163\n",
              "...           ...      ...  ...                  ...     ...\n",
              "999995       52.0      7.0  ...                   94      88\n",
              "999996       17.0      2.0  ...                   35     160\n",
              "999997       16.0      4.0  ...                   81      64\n",
              "999998       23.0      1.0  ...                    5     149\n",
              "999999       55.0      4.0  ...                   11      88\n",
              "\n",
              "[1000000 rows x 8 columns]"
            ]
          },
          "metadata": {},
          "execution_count": 54
        }
      ]
    },
    {
      "cell_type": "code",
      "metadata": {
        "colab": {
          "base_uri": "https://localhost:8080/",
          "height": 419
        },
        "id": "s8OT3tSGnXHx",
        "outputId": "56cb0d3d-7b33-4241-f81a-8d597b84902d"
      },
      "source": [
        "T"
      ],
      "execution_count": 55,
      "outputs": [
        {
          "output_type": "execute_result",
          "data": {
            "text/html": [
              "<div>\n",
              "<style scoped>\n",
              "    .dataframe tbody tr th:only-of-type {\n",
              "        vertical-align: middle;\n",
              "    }\n",
              "\n",
              "    .dataframe tbody tr th {\n",
              "        vertical-align: top;\n",
              "    }\n",
              "\n",
              "    .dataframe thead th {\n",
              "        text-align: right;\n",
              "    }\n",
              "</style>\n",
              "<table border=\"1\" class=\"dataframe\">\n",
              "  <thead>\n",
              "    <tr style=\"text-align: right;\">\n",
              "      <th></th>\n",
              "      <th>companyId</th>\n",
              "      <th>jobType</th>\n",
              "      <th>degree</th>\n",
              "      <th>major</th>\n",
              "      <th>industry</th>\n",
              "      <th>yearsExperience</th>\n",
              "      <th>milesFromMetropolis</th>\n",
              "    </tr>\n",
              "  </thead>\n",
              "  <tbody>\n",
              "    <tr>\n",
              "      <th>0</th>\n",
              "      <td>27.0</td>\n",
              "      <td>5.0</td>\n",
              "      <td>2.0</td>\n",
              "      <td>7.0</td>\n",
              "      <td>3.0</td>\n",
              "      <td>22</td>\n",
              "      <td>73</td>\n",
              "    </tr>\n",
              "    <tr>\n",
              "      <th>1</th>\n",
              "      <td>5.0</td>\n",
              "      <td>4.0</td>\n",
              "      <td>4.0</td>\n",
              "      <td>7.0</td>\n",
              "      <td>0.0</td>\n",
              "      <td>20</td>\n",
              "      <td>47</td>\n",
              "    </tr>\n",
              "    <tr>\n",
              "      <th>2</th>\n",
              "      <td>2.0</td>\n",
              "      <td>2.0</td>\n",
              "      <td>3.0</td>\n",
              "      <td>0.0</td>\n",
              "      <td>3.0</td>\n",
              "      <td>17</td>\n",
              "      <td>9</td>\n",
              "    </tr>\n",
              "    <tr>\n",
              "      <th>3</th>\n",
              "      <td>14.0</td>\n",
              "      <td>5.0</td>\n",
              "      <td>2.0</td>\n",
              "      <td>7.0</td>\n",
              "      <td>4.0</td>\n",
              "      <td>14</td>\n",
              "      <td>96</td>\n",
              "    </tr>\n",
              "    <tr>\n",
              "      <th>4</th>\n",
              "      <td>30.0</td>\n",
              "      <td>4.0</td>\n",
              "      <td>1.0</td>\n",
              "      <td>0.0</td>\n",
              "      <td>4.0</td>\n",
              "      <td>10</td>\n",
              "      <td>44</td>\n",
              "    </tr>\n",
              "    <tr>\n",
              "      <th>...</th>\n",
              "      <td>...</td>\n",
              "      <td>...</td>\n",
              "      <td>...</td>\n",
              "      <td>...</td>\n",
              "      <td>...</td>\n",
              "      <td>...</td>\n",
              "      <td>...</td>\n",
              "    </tr>\n",
              "    <tr>\n",
              "      <th>999995</th>\n",
              "      <td>50.0</td>\n",
              "      <td>7.0</td>\n",
              "      <td>0.0</td>\n",
              "      <td>6.0</td>\n",
              "      <td>4.0</td>\n",
              "      <td>14</td>\n",
              "      <td>3</td>\n",
              "    </tr>\n",
              "    <tr>\n",
              "      <th>999996</th>\n",
              "      <td>45.0</td>\n",
              "      <td>5.0</td>\n",
              "      <td>4.0</td>\n",
              "      <td>7.0</td>\n",
              "      <td>3.0</td>\n",
              "      <td>20</td>\n",
              "      <td>67</td>\n",
              "    </tr>\n",
              "    <tr>\n",
              "      <th>999997</th>\n",
              "      <td>58.0</td>\n",
              "      <td>3.0</td>\n",
              "      <td>4.0</td>\n",
              "      <td>7.0</td>\n",
              "      <td>4.0</td>\n",
              "      <td>1</td>\n",
              "      <td>91</td>\n",
              "    </tr>\n",
              "    <tr>\n",
              "      <th>999998</th>\n",
              "      <td>11.0</td>\n",
              "      <td>2.0</td>\n",
              "      <td>1.0</td>\n",
              "      <td>6.0</td>\n",
              "      <td>4.0</td>\n",
              "      <td>14</td>\n",
              "      <td>63</td>\n",
              "    </tr>\n",
              "    <tr>\n",
              "      <th>999999</th>\n",
              "      <td>28.0</td>\n",
              "      <td>4.0</td>\n",
              "      <td>4.0</td>\n",
              "      <td>7.0</td>\n",
              "      <td>4.0</td>\n",
              "      <td>16</td>\n",
              "      <td>31</td>\n",
              "    </tr>\n",
              "  </tbody>\n",
              "</table>\n",
              "<p>1000000 rows × 7 columns</p>\n",
              "</div>"
            ],
            "text/plain": [
              "        companyId  jobType  ...  yearsExperience  milesFromMetropolis\n",
              "0            27.0      5.0  ...               22                   73\n",
              "1             5.0      4.0  ...               20                   47\n",
              "2             2.0      2.0  ...               17                    9\n",
              "3            14.0      5.0  ...               14                   96\n",
              "4            30.0      4.0  ...               10                   44\n",
              "...           ...      ...  ...              ...                  ...\n",
              "999995       50.0      7.0  ...               14                    3\n",
              "999996       45.0      5.0  ...               20                   67\n",
              "999997       58.0      3.0  ...                1                   91\n",
              "999998       11.0      2.0  ...               14                   63\n",
              "999999       28.0      4.0  ...               16                   31\n",
              "\n",
              "[1000000 rows x 7 columns]"
            ]
          },
          "metadata": {},
          "execution_count": 55
        }
      ]
    },
    {
      "cell_type": "code",
      "metadata": {
        "id": "zi2A5ePwIC8E"
      },
      "source": [
        "y = X.iloc[:,-1]\n",
        "X = X.iloc[:,:-1]"
      ],
      "execution_count": 56,
      "outputs": []
    },
    {
      "cell_type": "code",
      "metadata": {
        "colab": {
          "base_uri": "https://localhost:8080/",
          "height": 419
        },
        "id": "MgSK6LaKIP8v",
        "outputId": "03d5e260-ab75-443f-bfcd-762b7744f567"
      },
      "source": [
        "X"
      ],
      "execution_count": 57,
      "outputs": [
        {
          "output_type": "execute_result",
          "data": {
            "text/html": [
              "<div>\n",
              "<style scoped>\n",
              "    .dataframe tbody tr th:only-of-type {\n",
              "        vertical-align: middle;\n",
              "    }\n",
              "\n",
              "    .dataframe tbody tr th {\n",
              "        vertical-align: top;\n",
              "    }\n",
              "\n",
              "    .dataframe thead th {\n",
              "        text-align: right;\n",
              "    }\n",
              "</style>\n",
              "<table border=\"1\" class=\"dataframe\">\n",
              "  <thead>\n",
              "    <tr style=\"text-align: right;\">\n",
              "      <th></th>\n",
              "      <th>companyId</th>\n",
              "      <th>jobType</th>\n",
              "      <th>degree</th>\n",
              "      <th>major</th>\n",
              "      <th>industry</th>\n",
              "      <th>yearsExperience</th>\n",
              "      <th>milesFromMetropolis</th>\n",
              "    </tr>\n",
              "  </thead>\n",
              "  <tbody>\n",
              "    <tr>\n",
              "      <th>0</th>\n",
              "      <td>31.0</td>\n",
              "      <td>1.0</td>\n",
              "      <td>3.0</td>\n",
              "      <td>6.0</td>\n",
              "      <td>3.0</td>\n",
              "      <td>10</td>\n",
              "      <td>83</td>\n",
              "    </tr>\n",
              "    <tr>\n",
              "      <th>1</th>\n",
              "      <td>11.0</td>\n",
              "      <td>0.0</td>\n",
              "      <td>2.0</td>\n",
              "      <td>7.0</td>\n",
              "      <td>6.0</td>\n",
              "      <td>3</td>\n",
              "      <td>73</td>\n",
              "    </tr>\n",
              "    <tr>\n",
              "      <th>2</th>\n",
              "      <td>48.0</td>\n",
              "      <td>7.0</td>\n",
              "      <td>1.0</td>\n",
              "      <td>8.0</td>\n",
              "      <td>3.0</td>\n",
              "      <td>10</td>\n",
              "      <td>38</td>\n",
              "    </tr>\n",
              "    <tr>\n",
              "      <th>3</th>\n",
              "      <td>32.0</td>\n",
              "      <td>5.0</td>\n",
              "      <td>1.0</td>\n",
              "      <td>2.0</td>\n",
              "      <td>0.0</td>\n",
              "      <td>8</td>\n",
              "      <td>17</td>\n",
              "    </tr>\n",
              "    <tr>\n",
              "      <th>4</th>\n",
              "      <td>60.0</td>\n",
              "      <td>7.0</td>\n",
              "      <td>0.0</td>\n",
              "      <td>8.0</td>\n",
              "      <td>2.0</td>\n",
              "      <td>8</td>\n",
              "      <td>16</td>\n",
              "    </tr>\n",
              "    <tr>\n",
              "      <th>...</th>\n",
              "      <td>...</td>\n",
              "      <td>...</td>\n",
              "      <td>...</td>\n",
              "      <td>...</td>\n",
              "      <td>...</td>\n",
              "      <td>...</td>\n",
              "      <td>...</td>\n",
              "    </tr>\n",
              "    <tr>\n",
              "      <th>999995</th>\n",
              "      <td>52.0</td>\n",
              "      <td>7.0</td>\n",
              "      <td>0.0</td>\n",
              "      <td>2.0</td>\n",
              "      <td>3.0</td>\n",
              "      <td>19</td>\n",
              "      <td>94</td>\n",
              "    </tr>\n",
              "    <tr>\n",
              "      <th>999996</th>\n",
              "      <td>17.0</td>\n",
              "      <td>2.0</td>\n",
              "      <td>2.0</td>\n",
              "      <td>7.0</td>\n",
              "      <td>2.0</td>\n",
              "      <td>12</td>\n",
              "      <td>35</td>\n",
              "    </tr>\n",
              "    <tr>\n",
              "      <th>999997</th>\n",
              "      <td>16.0</td>\n",
              "      <td>4.0</td>\n",
              "      <td>2.0</td>\n",
              "      <td>7.0</td>\n",
              "      <td>1.0</td>\n",
              "      <td>16</td>\n",
              "      <td>81</td>\n",
              "    </tr>\n",
              "    <tr>\n",
              "      <th>999998</th>\n",
              "      <td>23.0</td>\n",
              "      <td>1.0</td>\n",
              "      <td>3.0</td>\n",
              "      <td>7.0</td>\n",
              "      <td>3.0</td>\n",
              "      <td>6</td>\n",
              "      <td>5</td>\n",
              "    </tr>\n",
              "    <tr>\n",
              "      <th>999999</th>\n",
              "      <td>55.0</td>\n",
              "      <td>4.0</td>\n",
              "      <td>0.0</td>\n",
              "      <td>7.0</td>\n",
              "      <td>1.0</td>\n",
              "      <td>20</td>\n",
              "      <td>11</td>\n",
              "    </tr>\n",
              "  </tbody>\n",
              "</table>\n",
              "<p>1000000 rows × 7 columns</p>\n",
              "</div>"
            ],
            "text/plain": [
              "        companyId  jobType  ...  yearsExperience  milesFromMetropolis\n",
              "0            31.0      1.0  ...               10                   83\n",
              "1            11.0      0.0  ...                3                   73\n",
              "2            48.0      7.0  ...               10                   38\n",
              "3            32.0      5.0  ...                8                   17\n",
              "4            60.0      7.0  ...                8                   16\n",
              "...           ...      ...  ...              ...                  ...\n",
              "999995       52.0      7.0  ...               19                   94\n",
              "999996       17.0      2.0  ...               12                   35\n",
              "999997       16.0      4.0  ...               16                   81\n",
              "999998       23.0      1.0  ...                6                    5\n",
              "999999       55.0      4.0  ...               20                   11\n",
              "\n",
              "[1000000 rows x 7 columns]"
            ]
          },
          "metadata": {},
          "execution_count": 57
        }
      ]
    },
    {
      "cell_type": "code",
      "metadata": {
        "colab": {
          "base_uri": "https://localhost:8080/"
        },
        "id": "Yq6KKW1UIRVh",
        "outputId": "7b4642ee-ec51-4b24-d9f8-28413540aca4"
      },
      "source": [
        "y.head()"
      ],
      "execution_count": 58,
      "outputs": [
        {
          "output_type": "execute_result",
          "data": {
            "text/plain": [
              "0    130\n",
              "1    101\n",
              "2    137\n",
              "3    142\n",
              "4    163\n",
              "Name: salary, dtype: int64"
            ]
          },
          "metadata": {},
          "execution_count": 58
        }
      ]
    },
    {
      "cell_type": "markdown",
      "metadata": {
        "id": "Ql6A_FPjN7hU"
      },
      "source": [
        "# **Feature Importance**\n",
        "\n",
        "---\n",
        "Finding the impact of independent variables on dependent variables i.e how much does each feature impact the salary of an employee"
      ]
    },
    {
      "cell_type": "markdown",
      "metadata": {
        "id": "gAQCzhHpRCrd"
      },
      "source": [
        "Created a Subset of the entire training data, as the session was crashing due to limited RAM availability "
      ]
    },
    {
      "cell_type": "code",
      "metadata": {
        "id": "Yce33MpMPoly"
      },
      "source": [
        "X_sub = X[:10000][:]\n",
        "y_sub = y[:10000][:]"
      ],
      "execution_count": 59,
      "outputs": []
    },
    {
      "cell_type": "code",
      "metadata": {
        "colab": {
          "base_uri": "https://localhost:8080/",
          "height": 419
        },
        "id": "MTFZFTo3WTny",
        "outputId": "8dd3d5dc-85cf-4b72-cc7e-cc30a354f89b"
      },
      "source": [
        "X_sub"
      ],
      "execution_count": 60,
      "outputs": [
        {
          "output_type": "execute_result",
          "data": {
            "text/html": [
              "<div>\n",
              "<style scoped>\n",
              "    .dataframe tbody tr th:only-of-type {\n",
              "        vertical-align: middle;\n",
              "    }\n",
              "\n",
              "    .dataframe tbody tr th {\n",
              "        vertical-align: top;\n",
              "    }\n",
              "\n",
              "    .dataframe thead th {\n",
              "        text-align: right;\n",
              "    }\n",
              "</style>\n",
              "<table border=\"1\" class=\"dataframe\">\n",
              "  <thead>\n",
              "    <tr style=\"text-align: right;\">\n",
              "      <th></th>\n",
              "      <th>companyId</th>\n",
              "      <th>jobType</th>\n",
              "      <th>degree</th>\n",
              "      <th>major</th>\n",
              "      <th>industry</th>\n",
              "      <th>yearsExperience</th>\n",
              "      <th>milesFromMetropolis</th>\n",
              "    </tr>\n",
              "  </thead>\n",
              "  <tbody>\n",
              "    <tr>\n",
              "      <th>0</th>\n",
              "      <td>31.0</td>\n",
              "      <td>1.0</td>\n",
              "      <td>3.0</td>\n",
              "      <td>6.0</td>\n",
              "      <td>3.0</td>\n",
              "      <td>10</td>\n",
              "      <td>83</td>\n",
              "    </tr>\n",
              "    <tr>\n",
              "      <th>1</th>\n",
              "      <td>11.0</td>\n",
              "      <td>0.0</td>\n",
              "      <td>2.0</td>\n",
              "      <td>7.0</td>\n",
              "      <td>6.0</td>\n",
              "      <td>3</td>\n",
              "      <td>73</td>\n",
              "    </tr>\n",
              "    <tr>\n",
              "      <th>2</th>\n",
              "      <td>48.0</td>\n",
              "      <td>7.0</td>\n",
              "      <td>1.0</td>\n",
              "      <td>8.0</td>\n",
              "      <td>3.0</td>\n",
              "      <td>10</td>\n",
              "      <td>38</td>\n",
              "    </tr>\n",
              "    <tr>\n",
              "      <th>3</th>\n",
              "      <td>32.0</td>\n",
              "      <td>5.0</td>\n",
              "      <td>1.0</td>\n",
              "      <td>2.0</td>\n",
              "      <td>0.0</td>\n",
              "      <td>8</td>\n",
              "      <td>17</td>\n",
              "    </tr>\n",
              "    <tr>\n",
              "      <th>4</th>\n",
              "      <td>60.0</td>\n",
              "      <td>7.0</td>\n",
              "      <td>0.0</td>\n",
              "      <td>8.0</td>\n",
              "      <td>2.0</td>\n",
              "      <td>8</td>\n",
              "      <td>16</td>\n",
              "    </tr>\n",
              "    <tr>\n",
              "      <th>...</th>\n",
              "      <td>...</td>\n",
              "      <td>...</td>\n",
              "      <td>...</td>\n",
              "      <td>...</td>\n",
              "      <td>...</td>\n",
              "      <td>...</td>\n",
              "      <td>...</td>\n",
              "    </tr>\n",
              "    <tr>\n",
              "      <th>9995</th>\n",
              "      <td>40.0</td>\n",
              "      <td>1.0</td>\n",
              "      <td>1.0</td>\n",
              "      <td>7.0</td>\n",
              "      <td>4.0</td>\n",
              "      <td>3</td>\n",
              "      <td>76</td>\n",
              "    </tr>\n",
              "    <tr>\n",
              "      <th>9996</th>\n",
              "      <td>9.0</td>\n",
              "      <td>6.0</td>\n",
              "      <td>3.0</td>\n",
              "      <td>0.0</td>\n",
              "      <td>4.0</td>\n",
              "      <td>12</td>\n",
              "      <td>73</td>\n",
              "    </tr>\n",
              "    <tr>\n",
              "      <th>9997</th>\n",
              "      <td>15.0</td>\n",
              "      <td>6.0</td>\n",
              "      <td>3.0</td>\n",
              "      <td>7.0</td>\n",
              "      <td>3.0</td>\n",
              "      <td>11</td>\n",
              "      <td>34</td>\n",
              "    </tr>\n",
              "    <tr>\n",
              "      <th>9998</th>\n",
              "      <td>26.0</td>\n",
              "      <td>3.0</td>\n",
              "      <td>4.0</td>\n",
              "      <td>7.0</td>\n",
              "      <td>2.0</td>\n",
              "      <td>21</td>\n",
              "      <td>15</td>\n",
              "    </tr>\n",
              "    <tr>\n",
              "      <th>9999</th>\n",
              "      <td>42.0</td>\n",
              "      <td>6.0</td>\n",
              "      <td>1.0</td>\n",
              "      <td>8.0</td>\n",
              "      <td>3.0</td>\n",
              "      <td>7</td>\n",
              "      <td>67</td>\n",
              "    </tr>\n",
              "  </tbody>\n",
              "</table>\n",
              "<p>10000 rows × 7 columns</p>\n",
              "</div>"
            ],
            "text/plain": [
              "      companyId  jobType  ...  yearsExperience  milesFromMetropolis\n",
              "0          31.0      1.0  ...               10                   83\n",
              "1          11.0      0.0  ...                3                   73\n",
              "2          48.0      7.0  ...               10                   38\n",
              "3          32.0      5.0  ...                8                   17\n",
              "4          60.0      7.0  ...                8                   16\n",
              "...         ...      ...  ...              ...                  ...\n",
              "9995       40.0      1.0  ...                3                   76\n",
              "9996        9.0      6.0  ...               12                   73\n",
              "9997       15.0      6.0  ...               11                   34\n",
              "9998       26.0      3.0  ...               21                   15\n",
              "9999       42.0      6.0  ...                7                   67\n",
              "\n",
              "[10000 rows x 7 columns]"
            ]
          },
          "metadata": {},
          "execution_count": 60
        }
      ]
    },
    {
      "cell_type": "code",
      "metadata": {
        "id": "G-aNDwZRNLhS",
        "colab": {
          "base_uri": "https://localhost:8080/"
        },
        "outputId": "b3f0b4ca-ee49-409f-e31f-e7250b1b8d95"
      },
      "source": [
        "from sklearn.ensemble import ExtraTreesRegressor\n",
        "import matplotlib.pyplot as plt\n",
        "model = ExtraTreesRegressor()\n",
        "model.fit(X_sub,y_sub)"
      ],
      "execution_count": 61,
      "outputs": [
        {
          "output_type": "execute_result",
          "data": {
            "text/plain": [
              "ExtraTreesRegressor(bootstrap=False, ccp_alpha=0.0, criterion='mse',\n",
              "                    max_depth=None, max_features='auto', max_leaf_nodes=None,\n",
              "                    max_samples=None, min_impurity_decrease=0.0,\n",
              "                    min_impurity_split=None, min_samples_leaf=1,\n",
              "                    min_samples_split=2, min_weight_fraction_leaf=0.0,\n",
              "                    n_estimators=100, n_jobs=None, oob_score=False,\n",
              "                    random_state=None, verbose=0, warm_start=False)"
            ]
          },
          "metadata": {},
          "execution_count": 61
        }
      ]
    },
    {
      "cell_type": "code",
      "metadata": {
        "colab": {
          "base_uri": "https://localhost:8080/"
        },
        "id": "Q3V-yIUfNZAa",
        "outputId": "726c3a74-ba40-449c-8856-9a944abca279"
      },
      "source": [
        "print(model.feature_importances_)"
      ],
      "execution_count": 62,
      "outputs": [
        {
          "output_type": "stream",
          "name": "stdout",
          "text": [
            "[0.06244714 0.31454616 0.07265274 0.09874154 0.09761811 0.19753252\n",
            " 0.15646179]\n"
          ]
        }
      ]
    },
    {
      "cell_type": "code",
      "metadata": {
        "colab": {
          "base_uri": "https://localhost:8080/",
          "height": 265
        },
        "id": "L5r-gFv6NfAJ",
        "outputId": "2ef73104-d7e5-453f-b3dc-674287450b04"
      },
      "source": [
        "feat_importances = pd.Series(model.feature_importances_, index=X_sub.columns)\n",
        "feat_importances.nlargest(5).plot(kind='barh')\n",
        "plt.show()"
      ],
      "execution_count": 63,
      "outputs": [
        {
          "output_type": "display_data",
          "data": {
            "image/png": "[encoded data removed]",
            "text/plain": [
              "<Figure size 432x288 with 1 Axes>"
            ]
          },
          "metadata": {
            "needs_background": "light"
          }
        }
      ]
    },
    {
      "cell_type": "markdown",
      "metadata": {
        "id": "7uNWN8PaOOru"
      },
      "source": [
        "# **Splitting training data into train and test sets**\n",
        "\n",
        "\n",
        "---\n",
        "\n",
        "Split the dataset with 85% of the total data for training the model and 15% of the data for testing the models. Usually, I keep 80/20 split but since there was a large dataset, I reduced the split for better model building. Increasing it more could lead to over-fitting and that's why it was avoided."
      ]
    },
    {
      "cell_type": "code",
      "metadata": {
        "id": "8z2xpOG09aT7"
      },
      "source": [
        "from sklearn.model_selection import train_test_split\n",
        "X_train, X_test, y_train, y_test = train_test_split(X, y, test_size = 0.15, random_state = 1)"
      ],
      "execution_count": 64,
      "outputs": []
    },
    {
      "cell_type": "code",
      "metadata": {
        "colab": {
          "base_uri": "https://localhost:8080/"
        },
        "id": "EGugwLnUIzYu",
        "outputId": "b49b0838-bd23-4ad6-bfd3-0836fb1397da"
      },
      "source": [
        "X_train.info()"
      ],
      "execution_count": 65,
      "outputs": [
        {
          "output_type": "stream",
          "name": "stdout",
          "text": [
            "<class 'pandas.core.frame.DataFrame'>\n",
            "Int64Index: 850000 entries, 467798 to 128037\n",
            "Data columns (total 7 columns):\n",
            " #   Column               Non-Null Count   Dtype  \n",
            "---  ------               --------------   -----  \n",
            " 0   companyId            850000 non-null  float64\n",
            " 1   jobType              850000 non-null  float64\n",
            " 2   degree               850000 non-null  float64\n",
            " 3   major                850000 non-null  float64\n",
            " 4   industry             850000 non-null  float64\n",
            " 5   yearsExperience      850000 non-null  int64  \n",
            " 6   milesFromMetropolis  850000 non-null  int64  \n",
            "dtypes: float64(5), int64(2)\n",
            "memory usage: 51.9 MB\n"
          ]
        }
      ]
    },
    {
      "cell_type": "code",
      "metadata": {
        "id": "hsnfZttjRsUw"
      },
      "source": [
        ""
      ],
      "execution_count": 65,
      "outputs": []
    },
    {
      "cell_type": "markdown",
      "metadata": {
        "id": "26ugbZZ9Rc4g"
      },
      "source": [
        "**Data Standardisation**\n",
        "\n",
        "\n",
        "\n",
        "---\n",
        "\n",
        "Converted the two features - yearsExperience and milesFromMetropolis into a range of smaller values for better model building."
      ]
    },
    {
      "cell_type": "code",
      "metadata": {
        "id": "zXKT1KJD7z6U"
      },
      "source": [
        "X_train = X_train.to_numpy()\n",
        "X_test = X_test.to_numpy()\n",
        "from sklearn.preprocessing import StandardScaler\n",
        "sc = StandardScaler()\n",
        "X_train[:, -2:] = sc.fit_transform(X_train[:, -2:])\n",
        "X_test[:, -2:] = sc.transform(X_test[:, -2:])"
      ],
      "execution_count": 66,
      "outputs": []
    },
    {
      "cell_type": "code",
      "metadata": {
        "id": "IdmduFqknxeW"
      },
      "source": [
        "T = T.to_numpy()\n",
        "T[:, -2:] = sc.transform(T[:, -2:])"
      ],
      "execution_count": 67,
      "outputs": []
    },
    {
      "cell_type": "code",
      "metadata": {
        "colab": {
          "base_uri": "https://localhost:8080/"
        },
        "id": "weMPBfigImuE",
        "outputId": "33d56bfd-4cd5-4176-fe44-d528df0757e2"
      },
      "source": [
        "X_train"
      ],
      "execution_count": 68,
      "outputs": [
        {
          "output_type": "execute_result",
          "data": {
            "text/plain": [
              "array([[ 1.80000000e+01,  7.00000000e+00,  4.00000000e+00, ...,\n",
              "         0.00000000e+00, -8.30627211e-01, -1.26455720e+00],\n",
              "       [ 5.00000000e+01,  7.00000000e+00,  0.00000000e+00, ...,\n",
              "         4.00000000e+00, -2.75984829e-01,  2.93387553e-01],\n",
              "       [ 1.60000000e+01,  6.00000000e+00,  4.00000000e+00, ...,\n",
              "         6.00000000e+00, -1.37324234e-01,  1.64195972e-02],\n",
              "       ...,\n",
              "       [ 2.60000000e+01,  6.00000000e+00,  4.00000000e+00, ...,\n",
              "         4.00000000e+00,  4.17318148e-01, -1.22064381e-01],\n",
              "       [ 5.50000000e+01,  6.00000000e+00,  4.00000000e+00, ...,\n",
              "         2.00000000e+00, -9.69287806e-01, -1.43766217e+00],\n",
              "       [ 4.50000000e+01,  1.00000000e+00,  4.00000000e+00, ...,\n",
              "         5.00000000e+00, -1.52393019e+00, -7.79863275e-01]])"
            ]
          },
          "metadata": {},
          "execution_count": 68
        }
      ]
    },
    {
      "cell_type": "markdown",
      "metadata": {
        "id": "v9s9qkBFSJQl"
      },
      "source": [
        "# **Machine Learning Models**\n",
        "\n",
        "\n",
        "---\n",
        "\n",
        "Trained the dataset onto different Regression techniques such as Linear Regression, Decision Tree, Random Forest and XGBoost. Calculated the root mean square errors based on the predicted values of salaries and r2 score for all the models. "
      ]
    },
    {
      "cell_type": "code",
      "metadata": {
        "colab": {
          "base_uri": "https://localhost:8080/"
        },
        "id": "1bWgojQYKS5a",
        "outputId": "efc3b61d-8187-4001-bc9b-e37cf5b915b3"
      },
      "source": [
        "from sklearn.linear_model import LinearRegression\n",
        "lr = LinearRegression()\n",
        "lr.fit(X_train, y_train)"
      ],
      "execution_count": 69,
      "outputs": [
        {
          "output_type": "execute_result",
          "data": {
            "text/plain": [
              "LinearRegression(copy_X=True, fit_intercept=True, n_jobs=None, normalize=False)"
            ]
          },
          "metadata": {},
          "execution_count": 69
        }
      ]
    },
    {
      "cell_type": "code",
      "metadata": {
        "id": "ZGM8WAB_KhdS"
      },
      "source": [
        "y_pred = lr.predict(X_test)\n",
        "np.set_printoptions(precision=0)"
      ],
      "execution_count": 70,
      "outputs": []
    },
    {
      "cell_type": "code",
      "metadata": {
        "colab": {
          "base_uri": "https://localhost:8080/"
        },
        "id": "ftBR6V12Kny5",
        "outputId": "16f6d3c2-13d2-42d9-da75-87a934bd9e97"
      },
      "source": [
        "print(np.concatenate((y_pred.reshape(len(y_pred),1), y_test.values.reshape(len(y_test),1)),1))"
      ],
      "execution_count": 71,
      "outputs": [
        {
          "output_type": "stream",
          "name": "stdout",
          "text": [
            "[[ 90.  64.]\n",
            " [137. 176.]\n",
            " [114. 128.]\n",
            " ...\n",
            " [116. 107.]\n",
            " [ 93.  89.]\n",
            " [154. 134.]]\n"
          ]
        }
      ]
    },
    {
      "cell_type": "code",
      "metadata": {
        "colab": {
          "base_uri": "https://localhost:8080/"
        },
        "id": "MMMXd70UK5LH",
        "outputId": "07f4702e-7bc5-4007-a989-d47111d7388a"
      },
      "source": [
        "from sklearn.metrics import r2_score\n",
        "r2_score(y_test, y_pred)"
      ],
      "execution_count": 72,
      "outputs": [
        {
          "output_type": "execute_result",
          "data": {
            "text/plain": [
              "0.3833571367342563"
            ]
          },
          "metadata": {},
          "execution_count": 72
        }
      ]
    },
    {
      "cell_type": "code",
      "metadata": {
        "colab": {
          "base_uri": "https://localhost:8080/"
        },
        "id": "tWIkhw3vprVo",
        "outputId": "ed2869f5-1bb1-4c8a-8bf2-f98fadbc58d4"
      },
      "source": [
        "from sklearn.metrics import mean_squared_error\n",
        "mse=mean_squared_error(y_test, y_pred)\n",
        "print(np.sqrt(mse))"
      ],
      "execution_count": 73,
      "outputs": [
        {
          "output_type": "stream",
          "name": "stdout",
          "text": [
            "30.40442236899153\n"
          ]
        }
      ]
    },
    {
      "cell_type": "code",
      "metadata": {
        "colab": {
          "base_uri": "https://localhost:8080/"
        },
        "id": "tiX6FxtbLImq",
        "outputId": "846efc36-fb05-4080-8444-7c7aaee1e049"
      },
      "source": [
        "from sklearn.tree import DecisionTreeRegressor\n",
        "dt = DecisionTreeRegressor(random_state = 0)\n",
        "dt.fit(X_train, y_train)"
      ],
      "execution_count": 74,
      "outputs": [
        {
          "output_type": "execute_result",
          "data": {
            "text/plain": [
              "DecisionTreeRegressor(ccp_alpha=0.0, criterion='mse', max_depth=None,\n",
              "                      max_features=None, max_leaf_nodes=None,\n",
              "                      min_impurity_decrease=0.0, min_impurity_split=None,\n",
              "                      min_samples_leaf=1, min_samples_split=2,\n",
              "                      min_weight_fraction_leaf=0.0, presort='deprecated',\n",
              "                      random_state=0, splitter='best')"
            ]
          },
          "metadata": {},
          "execution_count": 74
        }
      ]
    },
    {
      "cell_type": "code",
      "metadata": {
        "id": "xtxruqvsLI6H"
      },
      "source": [
        "y_pred = dt.predict(X_test)\n",
        "np.set_printoptions(precision=2)"
      ],
      "execution_count": 75,
      "outputs": []
    },
    {
      "cell_type": "code",
      "metadata": {
        "colab": {
          "base_uri": "https://localhost:8080/"
        },
        "id": "A9ZRTuij7_Ac",
        "outputId": "045f932c-dc04-49df-b64b-0544c1859c2d"
      },
      "source": [
        "print(np.concatenate((y_pred.reshape(len(y_pred),1), y_test.values.reshape(len(y_test),1)),1))"
      ],
      "execution_count": 76,
      "outputs": [
        {
          "output_type": "stream",
          "name": "stdout",
          "text": [
            "[[ 53.   64. ]\n",
            " [132.  176. ]\n",
            " [131.5 128. ]\n",
            " ...\n",
            " [137.  107. ]\n",
            " [119.   89. ]\n",
            " [190.  134. ]]\n"
          ]
        }
      ]
    },
    {
      "cell_type": "code",
      "metadata": {
        "colab": {
          "base_uri": "https://localhost:8080/"
        },
        "id": "v2CnjJUPLJoV",
        "outputId": "e1f47ec2-f334-4815-f09c-8f29097588c8"
      },
      "source": [
        "r2_score(y_test, y_pred)"
      ],
      "execution_count": 77,
      "outputs": [
        {
          "output_type": "execute_result",
          "data": {
            "text/plain": [
              "0.49578440425003223"
            ]
          },
          "metadata": {},
          "execution_count": 77
        }
      ]
    },
    {
      "cell_type": "code",
      "metadata": {
        "colab": {
          "base_uri": "https://localhost:8080/"
        },
        "id": "E9MgccXrp_JJ",
        "outputId": "f06cba35-8799-4751-a4bb-4fc16a37645e"
      },
      "source": [
        "mse=mean_squared_error(y_test, y_pred)\n",
        "print(np.sqrt(mse))"
      ],
      "execution_count": 78,
      "outputs": [
        {
          "output_type": "stream",
          "name": "stdout",
          "text": [
            "27.493373972784923\n"
          ]
        }
      ]
    },
    {
      "cell_type": "code",
      "metadata": {
        "id": "WbaBbpq4X27j",
        "colab": {
          "base_uri": "https://localhost:8080/"
        },
        "outputId": "9ec865d2-b0f8-4c5e-918a-5f4575e24e82"
      },
      "source": [
        "from sklearn.ensemble import RandomForestRegressor\n",
        "rf = RandomForestRegressor(n_estimators = 100, random_state = 0)\n",
        "rf.fit(X_train, y_train)"
      ],
      "execution_count": 79,
      "outputs": [
        {
          "output_type": "execute_result",
          "data": {
            "text/plain": [
              "RandomForestRegressor(bootstrap=True, ccp_alpha=0.0, criterion='mse',\n",
              "                      max_depth=None, max_features='auto', max_leaf_nodes=None,\n",
              "                      max_samples=None, min_impurity_decrease=0.0,\n",
              "                      min_impurity_split=None, min_samples_leaf=1,\n",
              "                      min_samples_split=2, min_weight_fraction_leaf=0.0,\n",
              "                      n_estimators=100, n_jobs=None, oob_score=False,\n",
              "                      random_state=0, verbose=0, warm_start=False)"
            ]
          },
          "metadata": {},
          "execution_count": 79
        }
      ]
    },
    {
      "cell_type": "code",
      "metadata": {
        "id": "eMqFCxXpX3L-"
      },
      "source": [
        "y_pred = rf.predict(X_test)\n",
        "np.set_printoptions(precision=2)"
      ],
      "execution_count": 80,
      "outputs": []
    },
    {
      "cell_type": "code",
      "metadata": {
        "id": "Iw7Ki9jm8Acr",
        "colab": {
          "base_uri": "https://localhost:8080/"
        },
        "outputId": "85077432-53b8-48cb-f775-8a54f7f15367"
      },
      "source": [
        "print(np.concatenate((y_pred.reshape(len(y_pred),1), y_test.values.reshape(len(y_test),1)),1))"
      ],
      "execution_count": 81,
      "outputs": [
        {
          "output_type": "stream",
          "name": "stdout",
          "text": [
            "[[ 61.22  64.  ]\n",
            " [162.06 176.  ]\n",
            " [137.29 128.  ]\n",
            " ...\n",
            " [119.24 107.  ]\n",
            " [ 99.14  89.  ]\n",
            " [164.27 134.  ]]\n"
          ]
        }
      ]
    },
    {
      "cell_type": "code",
      "metadata": {
        "id": "3zhtnurYYGsm",
        "colab": {
          "base_uri": "https://localhost:8080/"
        },
        "outputId": "d42b26bf-db6e-4528-c03c-37850414e660"
      },
      "source": [
        "r2_score(y_test, y_pred)"
      ],
      "execution_count": 82,
      "outputs": [
        {
          "output_type": "execute_result",
          "data": {
            "text/plain": [
              "0.7270928358469259"
            ]
          },
          "metadata": {},
          "execution_count": 82
        }
      ]
    },
    {
      "cell_type": "code",
      "metadata": {
        "id": "GsZnYY2Paqen",
        "colab": {
          "base_uri": "https://localhost:8080/"
        },
        "outputId": "1fa63a14-fd93-4190-d3f1-de00fbde4dde"
      },
      "source": [
        "mse=mean_squared_error(y_test, y_pred)\n",
        "print(np.sqrt(mse))"
      ],
      "execution_count": 83,
      "outputs": [
        {
          "output_type": "stream",
          "name": "stdout",
          "text": [
            "20.226808861878766\n"
          ]
        }
      ]
    },
    {
      "cell_type": "code",
      "metadata": {
        "id": "K6WbwYG4axND",
        "colab": {
          "base_uri": "https://localhost:8080/"
        },
        "outputId": "fb3bc4aa-ee25-4a97-c6ab-858eea0d80ee"
      },
      "source": [
        "from xgboost import XGBRegressor\n",
        "xgb = XGBRegressor()\n",
        "xgb.fit(X_train, y_train)"
      ],
      "execution_count": 84,
      "outputs": [
        {
          "output_type": "stream",
          "name": "stdout",
          "text": [
            "[01:49:26] WARNING: /workspace/src/objective/regression_obj.cu:152: reg:linear is now deprecated in favor of reg:squarederror.\n"
          ]
        },
        {
          "output_type": "execute_result",
          "data": {
            "text/plain": [
              "XGBRegressor(base_score=0.5, booster='gbtree', colsample_bylevel=1,\n",
              "             colsample_bynode=1, colsample_bytree=1, gamma=0,\n",
              "             importance_type='gain', learning_rate=0.1, max_delta_step=0,\n",
              "             max_depth=3, min_child_weight=1, missing=None, n_estimators=100,\n",
              "             n_jobs=1, nthread=None, objective='reg:linear', random_state=0,\n",
              "             reg_alpha=0, reg_lambda=1, scale_pos_weight=1, seed=None,\n",
              "             silent=None, subsample=1, verbosity=1)"
            ]
          },
          "metadata": {},
          "execution_count": 84
        }
      ]
    },
    {
      "cell_type": "code",
      "metadata": {
        "id": "jPy_Xaf7bESb"
      },
      "source": [
        "y_pred = xgb.predict(X_test)\n",
        "np.set_printoptions(precision=2)"
      ],
      "execution_count": 85,
      "outputs": []
    },
    {
      "cell_type": "code",
      "metadata": {
        "id": "Z6lugNC88B7s",
        "colab": {
          "base_uri": "https://localhost:8080/"
        },
        "outputId": "f2e365d0-c736-4acb-ce2f-4918f9bf5308"
      },
      "source": [
        "print(np.concatenate((y_pred.reshape(len(y_pred),1), y_test.values.reshape(len(y_test),1)),1))"
      ],
      "execution_count": 86,
      "outputs": [
        {
          "output_type": "stream",
          "name": "stdout",
          "text": [
            "[[ 68.51  64.  ]\n",
            " [149.16 176.  ]\n",
            " [136.31 128.  ]\n",
            " ...\n",
            " [123.01 107.  ]\n",
            " [ 92.1   89.  ]\n",
            " [164.57 134.  ]]\n"
          ]
        }
      ]
    },
    {
      "cell_type": "code",
      "metadata": {
        "id": "C1oxCDJGbJy-",
        "colab": {
          "base_uri": "https://localhost:8080/"
        },
        "outputId": "458ff86a-c7cc-4367-ec0d-6f5463cc4284"
      },
      "source": [
        "r2_score(y_test, y_pred)"
      ],
      "execution_count": 87,
      "outputs": [
        {
          "output_type": "execute_result",
          "data": {
            "text/plain": [
              "0.7416185512845839"
            ]
          },
          "metadata": {},
          "execution_count": 87
        }
      ]
    },
    {
      "cell_type": "code",
      "metadata": {
        "id": "C0BToomKbL-M",
        "colab": {
          "base_uri": "https://localhost:8080/"
        },
        "outputId": "6c2679d2-addf-4eab-d016-df6ba01c6710"
      },
      "source": [
        "mse=mean_squared_error(y_test, y_pred)\n",
        "print(np.sqrt(mse))"
      ],
      "execution_count": 88,
      "outputs": [
        {
          "output_type": "stream",
          "name": "stdout",
          "text": [
            "19.681154321239624\n"
          ]
        }
      ]
    },
    {
      "cell_type": "markdown",
      "metadata": {
        "id": "kWQ4oUxASqx0"
      },
      "source": [
        "# **Hyperparameter Tuning**\n",
        "\n",
        "\n",
        "---\n",
        "Using Randomized Search for Hyperparameter tuning of the XGBoost Model. Gave the SearchCv model a bunch of parameters with different sets of ranges. Provided ranges with significant differences to generate optimal results faster. Better than randomly tuning parameters, since it only checks within the listed values saving iterations. It only prevents checking similar values, and checks for set values passed. Algo is used to find the best parameters for the model that gives the best score. The model was fitted on 5 fold for 3 iterations resulting in a total of 15 fits. Used n_jobs as -1 to optimise the RAM space used as jobs take place in parallel with this input."
      ]
    },
    {
      "cell_type": "code",
      "metadata": {
        "id": "-kn1zig1bu_u",
        "colab": {
          "base_uri": "https://localhost:8080/"
        },
        "outputId": "5f59dde7-c059-4da5-a29e-bf9626fd38e7"
      },
      "source": [
        "from sklearn.model_selection import RandomizedSearchCV\n",
        "\n",
        "params={'n_estimators' : [100],\n",
        "       'max_depth': [3,4,5,7,10,14,18],\n",
        "       'learning_rate': [0.05, 0.1, 0.15, 0.2, 0.25, 0.3],\n",
        "       'gamma' : [0.0,0.1,0.2,0.3,0.4,0.5],\n",
        "       'min_child_weight' : [1,2,3,4,5,7,9,10],\n",
        "       'colsample_bytree' : [0.3,0.4,0.5,0.6,0.7]}\n",
        "\n",
        "search = RandomizedSearchCV(estimator = xgb, \n",
        "                            param_distributions=params, \n",
        "                            random_state=42, \n",
        "                            n_iter=3, \n",
        "                            cv=5,\n",
        "                            verbose=3, \n",
        "                            n_jobs=-1, \n",
        "                            return_train_score=True)\n",
        "search.fit(X_train, y_train)"
      ],
      "execution_count": 89,
      "outputs": [
        {
          "output_type": "stream",
          "name": "stdout",
          "text": [
            "Fitting 5 folds for each of 3 candidates, totalling 15 fits\n"
          ]
        },
        {
          "output_type": "stream",
          "name": "stderr",
          "text": [
            "[Parallel(n_jobs=-1)]: Using backend LokyBackend with 2 concurrent workers.\n",
            "[Parallel(n_jobs=-1)]: Done  15 out of  15 | elapsed: 20.5min finished\n"
          ]
        },
        {
          "output_type": "stream",
          "name": "stdout",
          "text": [
            "[02:10:57] WARNING: /workspace/src/objective/regression_obj.cu:152: reg:linear is now deprecated in favor of reg:squarederror.\n"
          ]
        },
        {
          "output_type": "execute_result",
          "data": {
            "text/plain": [
              "RandomizedSearchCV(cv=5, error_score=nan,\n",
              "                   estimator=XGBRegressor(base_score=0.5, booster='gbtree',\n",
              "                                          colsample_bylevel=1,\n",
              "                                          colsample_bynode=1,\n",
              "                                          colsample_bytree=1, gamma=0,\n",
              "                                          importance_type='gain',\n",
              "                                          learning_rate=0.1, max_delta_step=0,\n",
              "                                          max_depth=3, min_child_weight=1,\n",
              "                                          missing=None, n_estimators=100,\n",
              "                                          n_jobs=1, nthread=None,\n",
              "                                          objective='reg:linear',\n",
              "                                          random_state=0, reg_alpha=...\n",
              "                   iid='deprecated', n_iter=3, n_jobs=-1,\n",
              "                   param_distributions={'colsample_bytree': [0.3, 0.4, 0.5, 0.6,\n",
              "                                                             0.7],\n",
              "                                        'gamma': [0.0, 0.1, 0.2, 0.3, 0.4, 0.5],\n",
              "                                        'learning_rate': [0.05, 0.1, 0.15, 0.2,\n",
              "                                                          0.25, 0.3],\n",
              "                                        'max_depth': [3, 4, 5, 7, 10, 14, 18],\n",
              "                                        'min_child_weight': [1, 2, 3, 4, 5, 7,\n",
              "                                                             9, 10],\n",
              "                                        'n_estimators': [100]},\n",
              "                   pre_dispatch='2*n_jobs', random_state=42, refit=True,\n",
              "                   return_train_score=True, scoring=None, verbose=3)"
            ]
          },
          "metadata": {},
          "execution_count": 89
        }
      ]
    },
    {
      "cell_type": "code",
      "metadata": {
        "id": "QbM24DmUbyhW",
        "colab": {
          "base_uri": "https://localhost:8080/"
        },
        "outputId": "c2712f28-0e2d-4c0d-8239-9efdb933a175"
      },
      "source": [
        "search.best_estimator_"
      ],
      "execution_count": 90,
      "outputs": [
        {
          "output_type": "execute_result",
          "data": {
            "text/plain": [
              "XGBRegressor(base_score=0.5, booster='gbtree', colsample_bylevel=1,\n",
              "             colsample_bynode=1, colsample_bytree=0.3, gamma=0.2,\n",
              "             importance_type='gain', learning_rate=0.2, max_delta_step=0,\n",
              "             max_depth=5, min_child_weight=5, missing=None, n_estimators=100,\n",
              "             n_jobs=1, nthread=None, objective='reg:linear', random_state=0,\n",
              "             reg_alpha=0, reg_lambda=1, scale_pos_weight=1, seed=None,\n",
              "             silent=None, subsample=1, verbosity=1)"
            ]
          },
          "metadata": {},
          "execution_count": 90
        }
      ]
    },
    {
      "cell_type": "code",
      "metadata": {
        "id": "2IJ9mvYdhP7V",
        "colab": {
          "base_uri": "https://localhost:8080/"
        },
        "outputId": "520794bc-2c7b-44cc-89a6-e6a1ddd281be"
      },
      "source": [
        "search.best_params_"
      ],
      "execution_count": 91,
      "outputs": [
        {
          "output_type": "execute_result",
          "data": {
            "text/plain": [
              "{'colsample_bytree': 0.3,\n",
              " 'gamma': 0.2,\n",
              " 'learning_rate': 0.2,\n",
              " 'max_depth': 5,\n",
              " 'min_child_weight': 5,\n",
              " 'n_estimators': 100}"
            ]
          },
          "metadata": {},
          "execution_count": 91
        }
      ]
    },
    {
      "cell_type": "markdown",
      "metadata": {
        "id": "58oR88PsT77Q"
      },
      "source": [
        "# **Final Model**\n",
        "\n",
        "\n",
        "\n",
        "---\n",
        "Trained the XGBoost model on the final set of parameters as returned as an output of hyperparameter tuning. Used, the whole training features and training salaries data to fit the model to get better results"
      ]
    },
    {
      "cell_type": "code",
      "metadata": {
        "id": "boU4qh03jPLf",
        "colab": {
          "base_uri": "https://localhost:8080/"
        },
        "outputId": "5c33eefa-4cda-4d78-9566-7943a541b8b6"
      },
      "source": [
        "xgb_tuned = XGBRegressor(base_score=0.5, booster='gbtree', colsample_bylevel=1,\n",
        "             colsample_bynode=1, colsample_bytree=0.3, gamma=0.2,\n",
        "             importance_type='gain', learning_rate=0.2, max_delta_step=0,\n",
        "             max_depth=5, min_child_weight=5, missing=None, n_estimators=100,\n",
        "             n_jobs=1, nthread=None, objective='reg:linear', random_state=0,\n",
        "             reg_alpha=0, reg_lambda=1, scale_pos_weight=1, seed=None,\n",
        "             silent=None, subsample=1, verbosity=1)\n",
        "xgb_tuned.fit(X_train,y_train)"
      ],
      "execution_count": 92,
      "outputs": [
        {
          "output_type": "stream",
          "name": "stdout",
          "text": [
            "[02:11:49] WARNING: /workspace/src/objective/regression_obj.cu:152: reg:linear is now deprecated in favor of reg:squarederror.\n"
          ]
        },
        {
          "output_type": "execute_result",
          "data": {
            "text/plain": [
              "XGBRegressor(base_score=0.5, booster='gbtree', colsample_bylevel=1,\n",
              "             colsample_bynode=1, colsample_bytree=0.3, gamma=0.2,\n",
              "             importance_type='gain', learning_rate=0.2, max_delta_step=0,\n",
              "             max_depth=5, min_child_weight=5, missing=None, n_estimators=100,\n",
              "             n_jobs=1, nthread=None, objective='reg:linear', random_state=0,\n",
              "             reg_alpha=0, reg_lambda=1, scale_pos_weight=1, seed=None,\n",
              "             silent=None, subsample=1, verbosity=1)"
            ]
          },
          "metadata": {},
          "execution_count": 92
        }
      ]
    },
    {
      "cell_type": "code",
      "metadata": {
        "id": "qNnDO-r_hzQj"
      },
      "source": [
        "y_pred = xgb_tuned.predict(X_test)"
      ],
      "execution_count": 93,
      "outputs": []
    },
    {
      "cell_type": "code",
      "metadata": {
        "id": "XbGM2Kwyf1j7",
        "colab": {
          "base_uri": "https://localhost:8080/"
        },
        "outputId": "66c345cc-e4e5-4c92-9dc0-b1e7885ab0e8"
      },
      "source": [
        "r2_score(y_test, y_pred)"
      ],
      "execution_count": 94,
      "outputs": [
        {
          "output_type": "execute_result",
          "data": {
            "text/plain": [
              "0.7565045334016857"
            ]
          },
          "metadata": {},
          "execution_count": 94
        }
      ]
    },
    {
      "cell_type": "code",
      "metadata": {
        "id": "qxX-1xuyf98y",
        "colab": {
          "base_uri": "https://localhost:8080/"
        },
        "outputId": "5f41c047-1b22-4c42-84d4-609617d1bf22"
      },
      "source": [
        "from sklearn import metrics\n",
        "print('MAE:', metrics.mean_absolute_error(y_test, y_pred))\n",
        "print('MSE:', metrics.mean_squared_error(y_test, y_pred))\n",
        "print('RMSE:', np.sqrt(metrics.mean_squared_error(y_test, y_pred)))"
      ],
      "execution_count": 95,
      "outputs": [
        {
          "output_type": "stream",
          "name": "stdout",
          "text": [
            "MAE: 15.48524865568161\n",
            "MSE: 365.0317868774609\n",
            "RMSE: 19.105805057035962\n"
          ]
        }
      ]
    },
    {
      "cell_type": "markdown",
      "metadata": {
        "id": "6SRz1qUTUf8c"
      },
      "source": [
        "# **Prediction of Salary for the test dataset**\n",
        "\n",
        "---\n",
        "Predicting the salary values for the Test features given on the trained model\n"
      ]
    },
    {
      "cell_type": "code",
      "metadata": {
        "id": "rz-TuZTwkV_u"
      },
      "source": [
        "y_pred = xgb.predict(T)"
      ],
      "execution_count": 96,
      "outputs": []
    },
    {
      "cell_type": "code",
      "metadata": {
        "id": "gMN8s-ONrDh4"
      },
      "source": [
        "y_pred = y_pred.round()\n",
        "y_pred = y_pred.astype(int)"
      ],
      "execution_count": 97,
      "outputs": []
    },
    {
      "cell_type": "code",
      "metadata": {
        "id": "KFXBEjlxoHPi",
        "colab": {
          "base_uri": "https://localhost:8080/"
        },
        "outputId": "5be863d9-3a0a-4126-d660-49050928a820"
      },
      "source": [
        "y_pred"
      ],
      "execution_count": 98,
      "outputs": [
        {
          "output_type": "execute_result",
          "data": {
            "text/plain": [
              "array([109,  95, 173, ...,  56, 152, 107])"
            ]
          },
          "metadata": {},
          "execution_count": 98
        }
      ]
    },
    {
      "cell_type": "code",
      "metadata": {
        "id": "Em0duInjww8_"
      },
      "source": [
        "pred=pd.DataFrame(y_pred)\n",
        "sub_df=pd.read_csv('test_features.csv')\n",
        "test_salaries = pd.concat([sub_df['jobId'],pred],axis=1)\n",
        "test_salaries.columns=['jobId','salary']"
      ],
      "execution_count": 99,
      "outputs": []
    },
    {
      "cell_type": "code",
      "metadata": {
        "id": "LPYuZw8Lxneg",
        "colab": {
          "base_uri": "https://localhost:8080/",
          "height": 419
        },
        "outputId": "c352a358-ecbd-472f-c934-84d343877c5b"
      },
      "source": [
        "test_salaries"
      ],
      "execution_count": 100,
      "outputs": [
        {
          "output_type": "execute_result",
          "data": {
            "text/html": [
              "<div>\n",
              "<style scoped>\n",
              "    .dataframe tbody tr th:only-of-type {\n",
              "        vertical-align: middle;\n",
              "    }\n",
              "\n",
              "    .dataframe tbody tr th {\n",
              "        vertical-align: top;\n",
              "    }\n",
              "\n",
              "    .dataframe thead th {\n",
              "        text-align: right;\n",
              "    }\n",
              "</style>\n",
              "<table border=\"1\" class=\"dataframe\">\n",
              "  <thead>\n",
              "    <tr style=\"text-align: right;\">\n",
              "      <th></th>\n",
              "      <th>jobId</th>\n",
              "      <th>salary</th>\n",
              "    </tr>\n",
              "  </thead>\n",
              "  <tbody>\n",
              "    <tr>\n",
              "      <th>0</th>\n",
              "      <td>JOB1362685407687</td>\n",
              "      <td>109</td>\n",
              "    </tr>\n",
              "    <tr>\n",
              "      <th>1</th>\n",
              "      <td>JOB1362685407688</td>\n",
              "      <td>95</td>\n",
              "    </tr>\n",
              "    <tr>\n",
              "      <th>2</th>\n",
              "      <td>JOB1362685407689</td>\n",
              "      <td>173</td>\n",
              "    </tr>\n",
              "    <tr>\n",
              "      <th>3</th>\n",
              "      <td>JOB1362685407690</td>\n",
              "      <td>101</td>\n",
              "    </tr>\n",
              "    <tr>\n",
              "      <th>4</th>\n",
              "      <td>JOB1362685407691</td>\n",
              "      <td>119</td>\n",
              "    </tr>\n",
              "    <tr>\n",
              "      <th>...</th>\n",
              "      <td>...</td>\n",
              "      <td>...</td>\n",
              "    </tr>\n",
              "    <tr>\n",
              "      <th>999995</th>\n",
              "      <td>JOB1362686407682</td>\n",
              "      <td>162</td>\n",
              "    </tr>\n",
              "    <tr>\n",
              "      <th>999996</th>\n",
              "      <td>JOB1362686407683</td>\n",
              "      <td>108</td>\n",
              "    </tr>\n",
              "    <tr>\n",
              "      <th>999997</th>\n",
              "      <td>JOB1362686407684</td>\n",
              "      <td>56</td>\n",
              "    </tr>\n",
              "    <tr>\n",
              "      <th>999998</th>\n",
              "      <td>JOB1362686407685</td>\n",
              "      <td>152</td>\n",
              "    </tr>\n",
              "    <tr>\n",
              "      <th>999999</th>\n",
              "      <td>JOB1362686407686</td>\n",
              "      <td>107</td>\n",
              "    </tr>\n",
              "  </tbody>\n",
              "</table>\n",
              "<p>1000000 rows × 2 columns</p>\n",
              "</div>"
            ],
            "text/plain": [
              "                   jobId  salary\n",
              "0       JOB1362685407687     109\n",
              "1       JOB1362685407688      95\n",
              "2       JOB1362685407689     173\n",
              "3       JOB1362685407690     101\n",
              "4       JOB1362685407691     119\n",
              "...                  ...     ...\n",
              "999995  JOB1362686407682     162\n",
              "999996  JOB1362686407683     108\n",
              "999997  JOB1362686407684      56\n",
              "999998  JOB1362686407685     152\n",
              "999999  JOB1362686407686     107\n",
              "\n",
              "[1000000 rows x 2 columns]"
            ]
          },
          "metadata": {},
          "execution_count": 100
        }
      ]
    },
    {
      "cell_type": "markdown",
      "metadata": {
        "id": "Dg0quOF5YVIS"
      },
      "source": [
        "# **Submission File**"
      ]
    },
    {
      "cell_type": "code",
      "metadata": {
        "id": "e-ho0gIqx3xY"
      },
      "source": [
        "test_salaries.to_csv('test_salaries.csv',index=False)"
      ],
      "execution_count": 101,
      "outputs": []
    }
  ]
}